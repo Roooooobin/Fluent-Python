{
 "cells": [
  {
   "cell_type": "code",
   "execution_count": 1,
   "metadata": {
    "collapsed": true
   },
   "outputs": [],
   "source": [
    "from IPython.core.interactiveshell import InteractiveShell\n",
    "InteractiveShell.ast_node_interactivity = \"all\""
   ]
  },
  {
   "cell_type": "code",
   "execution_count": 2,
   "metadata": {},
   "outputs": [],
   "source": [
    "_ = \"\"\"\n",
    "Any running Python program has many dictionaries active at the same time, even if the user’s program code doesn’t explicitly use a dictionary\n",
    "Hash tables are the engines behind Python’s high-performance dicts.\n",
    "We also cover sets in this chapter because they are implemented with hash tables as well.\n",
    "\"\"\""
   ]
  },
  {
   "cell_type": "code",
   "execution_count": 3,
   "metadata": {},
   "outputs": [
    {
     "data": {
      "text/plain": [
       "True"
      ]
     },
     "execution_count": 3,
     "metadata": {},
     "output_type": "execute_result"
    }
   ],
   "source": [
    "# generic mapping types\n",
    "_ = \"\"\"\n",
    "An object is hashable if it has a hash value which never changes during its lifetime (it\n",
    "needs a __hash__() method), and can be compared to other objects (it needs an\n",
    "__eq__() method). Hashable objects which compare equal must have the same hash\n",
    "value. […]\n",
    "the atomic immutable types(str, bytes, numeric types) are all hashable.\n",
    "A frozen set is always hashable\n",
    "A tuple is hashable only if all its items are hashable\n",
    "\n",
    "User-defined types are hashable by default because their hash value is their id() and\n",
    "they all compare not equal. If an object implements a custom __eq__ that takes into\n",
    "account its internal state, it may be hashable only if all its attributes are immutable.\n",
    "\"\"\"\n",
    "a = dict(one=1, two=2, three=3)\n",
    "b = {'one': 1, 'two': 2, 'three': 3}\n",
    "c = dict(zip(['one', 'two', 'three'], [1, 2, 3]))\n",
    "d = dict([('two', 2), ('one', 1), ('three', 3)])\n",
    "e = dict({'three': 3, 'one': 1, 'two': 2})\n",
    "a == b == c == d == e"
   ]
  },
  {
   "cell_type": "code",
   "execution_count": 14,
   "metadata": {},
   "outputs": [
    {
     "data": {
      "text/plain": [
       "{'China': 86,\n 'India': 91,\n 'United States': 1,\n 'Indonesia': 62,\n 'Brazil': 55,\n 'Pakistan': 92,\n 'Bangladesh': 880,\n 'Nigeria': 234,\n 'Russia': 7,\n 'Japan': 81}"
      ]
     },
     "execution_count": 14,
     "metadata": {},
     "output_type": "execute_result"
    }
   ],
   "source": [
    "# dict comprehensions\n",
    "DIAL_CODES = [\n",
    "        (86, 'China'),\n",
    "        (91, 'India'),\n",
    "        (1, 'United States'),\n",
    "        (62, 'Indonesia'),\n",
    "        (55, 'Brazil'),\n",
    "        (92, 'Pakistan'),\n",
    "        (880, 'Bangladesh'),\n",
    "        (234, 'Nigeria'),\n",
    "        (7, 'Russia'),\n",
    "        (81, 'Japan'),\n",
    "    ]\n",
    "country_code = {country: code for code, country in DIAL_CODES}\n",
    "country_code"
   ]
  },
  {
   "cell_type": "code",
   "execution_count": 15,
   "metadata": {},
   "outputs": [
    {
     "data": {
      "text/plain": [
       "{'China': 86,\n 'India': 91,\n 'United States': 1,\n 'Indonesia': 62,\n 'Brazil': 55,\n 'Pakistan': 92,\n 'Bangladesh': 880,\n 'Nigeria': 234,\n 'Russia': 7,\n 'Japan': 81}"
      ]
     },
     "execution_count": 15,
     "metadata": {},
     "output_type": "execute_result"
    },
    {
     "data": {
      "text/plain": [
       "dict_values([86, 91, 1, 62, 55, 92, 880, 234, 7, 81])"
      ]
     },
     "execution_count": 15,
     "metadata": {},
     "output_type": "execute_result"
    },
    {
     "data": {
      "text/plain": [
       "('Japan', 81)"
      ]
     },
     "execution_count": 15,
     "metadata": {},
     "output_type": "execute_result"
    }
   ],
   "source": [
    "_ = \"\"\"\n",
    "The way update handles its first argument m is a prime example of duck typing: it first\n",
    "checks whether m has a keys method and, if it does, assumes it is a mapping. Otherwise,\n",
    "update falls back to iterating over m, assuming its items are (key, value) pairs. The\n",
    "constructor for most Python mappings uses the logic of update internally, which means\n",
    "they can be initialized from other mappings or from any iterable object producing (key,\n",
    "value) pairs.\n",
    "\"\"\"\n",
    "country_code\n",
    "country_code.values()\n",
    "country_code.popitem()"
   ]
  },
  {
   "cell_type": "code",
   "execution_count": 16,
   "metadata": {},
   "outputs": [
    {
     "data": {
      "text/plain": [
       "0"
      ]
     },
     "execution_count": 16,
     "metadata": {},
     "output_type": "execute_result"
    },
    {
     "data": {
      "text/plain": [
       "2"
      ]
     },
     "execution_count": 16,
     "metadata": {},
     "output_type": "execute_result"
    },
    {
     "data": {
      "text/plain": [
       "2"
      ]
     },
     "execution_count": 16,
     "metadata": {},
     "output_type": "execute_result"
    }
   ],
   "source": [
    "# handling missing keys with setdefault\n",
    "d = {'r': 1, 'o': 2}\n",
    "d.get('oo', 0)\n",
    "d.setdefault('oo', 2)\n",
    "d.get('oo', 0)"
   ]
  },
  {
   "cell_type": "code",
   "execution_count": 19,
   "metadata": {},
   "outputs": [
    {
     "data": {
      "text/plain": [
       "[]"
      ]
     },
     "execution_count": 19,
     "metadata": {},
     "output_type": "execute_result"
    }
   ],
   "source": [
    "# mappings with flexible key lookup\n",
    "_ = \"\"\"\n",
    "Sometimes it is convenient to have mappings that return some made-up value when a\n",
    "missing key is searched. There are two main approaches to this: one is to use a default\n",
    "dict instead of a plain dict. The other is to subclass dict or any other mapping type\n",
    "and add a __missing__ method. Both solutions are covered next\n",
    "\"\"\"\n",
    "# defaultdict\n",
    "_ = \"\"\"\n",
    "Here is how it works: when instantiating a defaultdict, you provide a callable that is\n",
    "used to produce a default value whenever __getitem__ is passed a nonexistent key\n",
    "argument.\n",
    "\n",
    "when dd = defaultdict(list)\n",
    "1. Calls list() to create a new list.\n",
    "2. Inserts the list into dd using 'new-key' as key.\n",
    "3. Returns a reference to that list.\n",
    "\n",
    "The callable that produces the default values is held in an instance attribute called\n",
    "default_factory and is only invoked to provide default values for __getitem__ calls\n",
    "dd[k] will call but dd.get(k) will not\n",
    "\"\"\"\n",
    "from collections import defaultdict\n",
    "\n",
    "dd = defaultdict(list)\n",
    "dd[2]"
   ]
  },
  {
   "cell_type": "code",
   "execution_count": null,
   "metadata": {},
   "outputs": [],
   "source": [
    "# the __missing__ method\n",
    "_ = \"\"\"\n",
    "Underlying the way mappings deal with missing keys is the aptly named __missing__\n",
    "method. This method is not defined in the base dict class, but dict is aware of it: if you\n",
    "subclass dict and provide a __missing__ method, the standard dict.__getitem__ will\n",
    "call it whenever a key is not found, instead of raising KeyError.\n",
    "\n",
    "The __missing__ method is just called by __getitem__ (i.e., for\n",
    "the d[k] operator). The presence of a __missing__ method has no\n",
    "effect on the behavior of other methods that look up keys, such as\n",
    "get or __contains__ (which implements the in operator). This is\n",
    "why the default_factory of defaultdict works only with\n",
    "__getitem__, as noted in the warning at the end of the previous\n",
    "section.\n",
    "\"\"\"\n",
    "# when searching for a nonstring key, StrKeyDict0 converts it to str when it is not found\n",
    "class StrKeyDict0(dict):\n",
    "    def __missing__(self, key):\n",
    "        if isinstance(key, str):    # very necessary\n",
    "            raise KeyError(key)\n",
    "        return self[str(key)]\n",
    "\n",
    "    def get(self, key, default=None):\n",
    "        try:\n",
    "            return self[key]\n",
    "        except KeyError:\n",
    "            return default\n",
    "\n",
    "    def __contains__(self, key):\n",
    "        return key in self.keys() or str(key) in self.keys()\n",
    "\n",
    "\n",
    "d = StrKeyDict0([('2', 'two'), ('4', 'four')])\n",
    "d['2']\n",
    "d[4]\n",
    "d.get('2')\n",
    "d.get(4)\n",
    "2 in d\n",
    "1 in d\n",
    "\n",
    "_ = \"\"\"\n",
    "A search like k in my_dict.keys() is efficient in Python 3 even\n",
    "for very large mappings because dict.keys() returns a view,\n",
    "which is similar to a set, and containment checks in sets are as\n",
    "fast as in dictionaries. Details are documented in the “Dictionary”\n",
    "view objects section of the documentation. In Python 2,\n",
    "dict.keys() returns a list, so our solution also works there, but\n",
    "it is not efficient for large dictionaries, because k in my_list\n",
    "must scan the list.\n",
    "\"\"\""
   ]
  }
 ],
 "metadata": {
  "kernelspec": {
   "display_name": "Python 2",
   "language": "python",
   "name": "python2"
  },
  "language_info": {
   "codemirror_mode": {
    "name": "ipython",
    "version": 2
   },
   "file_extension": ".py",
   "mimetype": "text/x-python",
   "name": "python",
   "nbconvert_exporter": "python",
   "pygments_lexer": "ipython2",
   "version": "2.7.6"
  }
 },
 "nbformat": 4,
 "nbformat_minor": 0
}
