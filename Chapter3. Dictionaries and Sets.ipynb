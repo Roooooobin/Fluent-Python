{
 "cells": [
  {
   "cell_type": "code",
   "execution_count": 1,
   "metadata": {
    "collapsed": true
   },
   "outputs": [],
   "source": [
    "from IPython.core.interactiveshell import InteractiveShell\n",
    "InteractiveShell.ast_node_interactivity = \"all\""
   ]
  },
  {
   "cell_type": "code",
   "execution_count": 2,
   "metadata": {},
   "outputs": [],
   "source": [
    "_ = \"\"\"\n",
    "Any running Python program has many dictionaries active at the same time, even if the user’s program code doesn’t explicitly use a dictionary\n",
    "Hash tables are the engines behind Python’s high-performance dicts.\n",
    "We also cover sets in this chapter because they are implemented with hash tables as well.\n",
    "\"\"\""
   ]
  },
  {
   "cell_type": "code",
   "execution_count": 3,
   "metadata": {},
   "outputs": [
    {
     "data": {
      "text/plain": [
       "True"
      ]
     },
     "execution_count": 3,
     "metadata": {},
     "output_type": "execute_result"
    }
   ],
   "source": [
    "# generic mapping types\n",
    "_ = \"\"\"\n",
    "An object is hashable if it has a hash value which never changes during its lifetime (it\n",
    "needs a __hash__() method), and can be compared to other objects (it needs an\n",
    "__eq__() method). Hashable objects which compare equal must have the same hash\n",
    "value. […]\n",
    "the atomic immutable types(str, bytes, numeric types) are all hashable.\n",
    "A frozen set is always hashable\n",
    "A tuple is hashable only if all its items are hashable\n",
    "\n",
    "User-defined types are hashable by default because their hash value is their id() and\n",
    "they all compare not equal. If an object implements a custom __eq__ that takes into\n",
    "account its internal state, it may be hashable only if all its attributes are immutable.\n",
    "\"\"\"\n",
    "a = dict(one=1, two=2, three=3)\n",
    "b = {'one': 1, 'two': 2, 'three': 3}\n",
    "c = dict(zip(['one', 'two', 'three'], [1, 2, 3]))\n",
    "d = dict([('two', 2), ('one', 1), ('three', 3)])\n",
    "e = dict({'three': 3, 'one': 1, 'two': 2})\n",
    "a == b == c == d == e"
   ]
  },
  {
   "cell_type": "code",
   "execution_count": 14,
   "metadata": {},
   "outputs": [
    {
     "data": {
      "text/plain": [
       "{'China': 86,\n 'India': 91,\n 'United States': 1,\n 'Indonesia': 62,\n 'Brazil': 55,\n 'Pakistan': 92,\n 'Bangladesh': 880,\n 'Nigeria': 234,\n 'Russia': 7,\n 'Japan': 81}"
      ]
     },
     "execution_count": 14,
     "metadata": {},
     "output_type": "execute_result"
    }
   ],
   "source": [
    "# dict comprehensions\n",
    "DIAL_CODES = [\n",
    "        (86, 'China'),\n",
    "        (91, 'India'),\n",
    "        (1, 'United States'),\n",
    "        (62, 'Indonesia'),\n",
    "        (55, 'Brazil'),\n",
    "        (92, 'Pakistan'),\n",
    "        (880, 'Bangladesh'),\n",
    "        (234, 'Nigeria'),\n",
    "        (7, 'Russia'),\n",
    "        (81, 'Japan'),\n",
    "    ]\n",
    "country_code = {country: code for code, country in DIAL_CODES}\n",
    "country_code"
   ]
  },
  {
   "cell_type": "code",
   "execution_count": 15,
   "metadata": {},
   "outputs": [
    {
     "data": {
      "text/plain": [
       "{'China': 86,\n 'India': 91,\n 'United States': 1,\n 'Indonesia': 62,\n 'Brazil': 55,\n 'Pakistan': 92,\n 'Bangladesh': 880,\n 'Nigeria': 234,\n 'Russia': 7,\n 'Japan': 81}"
      ]
     },
     "execution_count": 15,
     "metadata": {},
     "output_type": "execute_result"
    },
    {
     "data": {
      "text/plain": [
       "dict_values([86, 91, 1, 62, 55, 92, 880, 234, 7, 81])"
      ]
     },
     "execution_count": 15,
     "metadata": {},
     "output_type": "execute_result"
    },
    {
     "data": {
      "text/plain": [
       "('Japan', 81)"
      ]
     },
     "execution_count": 15,
     "metadata": {},
     "output_type": "execute_result"
    }
   ],
   "source": [
    "_ = \"\"\"\n",
    "The way update handles its first argument m is a prime example of duck typing: it first\n",
    "checks whether m has a keys method and, if it does, assumes it is a mapping. Otherwise,\n",
    "update falls back to iterating over m, assuming its items are (key, value) pairs. The\n",
    "constructor for most Python mappings uses the logic of update internally, which means\n",
    "they can be initialized from other mappings or from any iterable object producing (key,\n",
    "value) pairs.\n",
    "\"\"\"\n",
    "country_code\n",
    "country_code.values()\n",
    "country_code.popitem()"
   ]
  },
  {
   "cell_type": "code",
   "execution_count": 16,
   "metadata": {},
   "outputs": [
    {
     "data": {
      "text/plain": [
       "0"
      ]
     },
     "execution_count": 16,
     "metadata": {},
     "output_type": "execute_result"
    },
    {
     "data": {
      "text/plain": [
       "2"
      ]
     },
     "execution_count": 16,
     "metadata": {},
     "output_type": "execute_result"
    },
    {
     "data": {
      "text/plain": [
       "2"
      ]
     },
     "execution_count": 16,
     "metadata": {},
     "output_type": "execute_result"
    }
   ],
   "source": [
    "# handling missing keys with setdefault\n",
    "d = {'r': 1, 'o': 2}\n",
    "d.get('oo', 0)\n",
    "d.setdefault('oo', 2)\n",
    "d.get('oo', 0)"
   ]
  },
  {
   "cell_type": "code",
   "execution_count": 9,
   "metadata": {},
   "outputs": [
    {
     "data": {
      "text/plain": [
       "[]"
      ]
     },
     "execution_count": 9,
     "metadata": {},
     "output_type": "execute_result"
    }
   ],
   "source": [
    "# mappings with flexible key lookup\n",
    "_ = \"\"\"\n",
    "Sometimes it is convenient to have mappings that return some made-up value when a\n",
    "missing key is searched. There are two main approaches to this: one is to use a default\n",
    "dict instead of a plain dict. The other is to subclass dict or any other mapping type\n",
    "and add a __missing__ method. Both solutions are covered next\n",
    "\"\"\"\n",
    "# defaultdict\n",
    "_ = \"\"\"\n",
    "Here is how it works: when instantiating a defaultdict, you provide a callable that is\n",
    "used to produce a default value whenever __getitem__ is passed a nonexistent key\n",
    "argument.\n",
    "\n",
    "when dd = defaultdict(list)\n",
    "1. Calls list() to create a new list.\n",
    "2. Inserts the list into dd using 'new-key' as key.\n",
    "3. Returns a reference to that list.\n",
    "\n",
    "The callable that produces the default values is held in an instance attribute called\n",
    "default_factory and is only invoked to provide default values for __getitem__ calls\n",
    "dd[k] will call but dd.get(k) will not\n",
    "\"\"\"\n",
    "from collections import defaultdict\n",
    "\n",
    "dd = defaultdict(list)\n",
    "dd[2]\n",
    "dd.get(3)"
   ]
  },
  {
   "cell_type": "code",
   "execution_count": null,
   "metadata": {},
   "outputs": [],
   "source": [
    "# the __missing__ method\n",
    "_ = \"\"\"\n",
    "Underlying the way mappings deal with missing keys is the aptly named __missing__\n",
    "method. This method is not defined in the base dict class, but dict is aware of it: if you\n",
    "subclass dict and provide a __missing__ method, the standard dict.__getitem__ will\n",
    "call it whenever a key is not found, instead of raising KeyError.\n",
    "\n",
    "The __missing__ method is just called by __getitem__ (i.e., for\n",
    "the d[k] operator). The presence of a __missing__ method has no\n",
    "effect on the behavior of other methods that look up keys, such as\n",
    "get or __contains__ (which implements the in operator). This is\n",
    "why the default_factory of defaultdict works only with\n",
    "__getitem__, as noted in the warning at the end of the previous\n",
    "section.\n",
    "\"\"\"\n",
    "# when searching for a nonstring key, StrKeyDict0 converts it to str when it is not found\n",
    "class StrKeyDict0(dict):\n",
    "    def __missing__(self, key):\n",
    "        if isinstance(key, str):    # very necessary\n",
    "            raise KeyError(key)\n",
    "        return self[str(key)]\n",
    "\n",
    "    def get(self, key, default=None):\n",
    "        try:\n",
    "            return self[key]\n",
    "        except KeyError:\n",
    "            return default\n",
    "\n",
    "    def __contains__(self, key):\n",
    "        return key in self.keys() or str(key) in self.keys()\n",
    "\n",
    "\n",
    "d = StrKeyDict0([('2', 'two'), ('4', 'four')])\n",
    "d['2']\n",
    "d[4]\n",
    "d.get('2')\n",
    "d.get(4)\n",
    "2 in d\n",
    "1 in d\n",
    "\n",
    "_ = \"\"\"\n",
    "A search like k in my_dict.keys() is efficient in Python 3 even\n",
    "for very large mappings because dict.keys() returns a view,\n",
    "which is similar to a set, and containment checks in sets are as\n",
    "fast as in dictionaries. Details are documented in the “Dictionary”\n",
    "view objects section of the documentation. In Python 2,\n",
    "dict.keys() returns a list, so our solution also works there, but\n",
    "it is not efficient for large dictionaries, because k in my_list\n",
    "must scan the list.\n",
    "\"\"\""
   ]
  },
  {
   "cell_type": "code",
   "execution_count": 3,
   "metadata": {},
   "outputs": [
    {
     "data": {
      "text/plain": [
       "Counter({'a': 5, 'b': 2, 'r': 2, 'c': 1, 'd': 1})"
      ]
     },
     "execution_count": 3,
     "metadata": {},
     "output_type": "execute_result"
    },
    {
     "data": {
      "text/plain": [
       "Counter({'a': 5, 'b': 3, 'r': 3, 'c': 1, 'd': 1, 'o': 1, 'i': 1, 'n': 1})"
      ]
     },
     "execution_count": 3,
     "metadata": {},
     "output_type": "execute_result"
    },
    {
     "data": {
      "text/plain": [
       "[('a', 5), ('b', 3)]"
      ]
     },
     "execution_count": 3,
     "metadata": {},
     "output_type": "execute_result"
    }
   ],
   "source": [
    "# variations of dict\n",
    "import collections\n",
    "\n",
    "_ = \"\"\"\n",
    "collections.OrderedDict\n",
    "    Maintains keys in insertion order, allowing iteration over items in a predictable\n",
    "    order. The popitem method of an OrderedDict pops the first item by default, but\n",
    "    if called as my_odict.popitem(last=True), it pops the last item added.\n",
    "\n",
    "collections.ChainMap\n",
    "    Holds a list of mappings that can be searched as one. The lookup is performed on\n",
    "    each mapping in order, and succeeds if the key is found in any of them. This is useful\n",
    "    to interpreters for languages with nested scopes, where each mapping represents a\n",
    "    scope context. The “ChainMap objects” section of the collections docs has several\n",
    "    examples of ChainMap usage, including this snippet inspired by the basic rules of\n",
    "    variable lookup in Python:\n",
    "    \n",
    "collections.Counter\n",
    "    A mapping that holds an integer count for each key. Updating an existing key adds\n",
    "    to its count. This can be used to count instances of hashable objects (the keys) or\n",
    "    as a multiset—a set that can hold several occurrences of each element. Counter\n",
    "    implements the + and - operators to combine tallies, and other useful methods such\n",
    "    as most_common([n]), which returns an ordered list of tuples with the n most common\n",
    "    items and their counts; see the documentation. Here is Counter used to count\n",
    "    letters in words:\n",
    "\"\"\"\n",
    "ct = collections.Counter('abracadabra')\n",
    "ct\n",
    "ct.update('robin')\n",
    "ct\n",
    "ct.most_common(2)\n"
   ]
  },
  {
   "cell_type": "code",
   "execution_count": 10,
   "metadata": {},
   "outputs": [],
   "source": [
    "# subclassing UserDict\n",
    "_ = \"\"\"\n",
    "collections.UserDict\n",
    "    A pure Python implementation of a mapping that works like a standard dict\n",
    "\n",
    "The main reason why it’s preferable to subclass from UserDict rather than from dict\n",
    "is that the built-in has some implementation shortcuts that end up forcing us to override\n",
    "methods that we can just inherit from UserDict with no problems\n",
    "\n",
    "Note that UserDict does not inherit from dict, but has an internal dict instance, called data, which holds the actual items\n",
    "\"\"\"\n",
    "class StrKeyDict(collections.UserDict):\n",
    "    def __missing__(self, key):\n",
    "        if isinstance(key, str):  # very necessary\n",
    "            raise KeyError(key)\n",
    "        return self[str(key)]\n",
    "\n",
    "    def __setitem__(self, key, item):\n",
    "        self.data[str(key)] = item\n",
    "\n",
    "    def __contains__(self, key):\n",
    "        return str(key) in self.data\n"
   ]
  },
  {
   "cell_type": "code",
   "execution_count": 12,
   "metadata": {},
   "outputs": [
    {
     "data": {
      "text/plain": [
       "mappingproxy({1: 'A'})"
      ]
     },
     "execution_count": 12,
     "metadata": {},
     "output_type": "execute_result"
    },
    {
     "data": {
      "text/plain": [
       "'A'"
      ]
     },
     "execution_count": 12,
     "metadata": {},
     "output_type": "execute_result"
    },
    {
     "data": {
      "text/plain": [
       "mappingproxy({1: 'A', 2: 'B'})"
      ]
     },
     "execution_count": 12,
     "metadata": {},
     "output_type": "execute_result"
    },
    {
     "ename": "TypeError",
     "evalue": "'mappingproxy' object does not support item assignment",
     "traceback": [
      "\u001b[1;31m---------------------------------------------------------------------------\u001b[0m",
      "\u001b[1;31mTypeError\u001b[0m                                 Traceback (most recent call last)",
      "\u001b[1;32m<ipython-input-12-97cd36de7fc2>\u001b[0m in \u001b[0;36m<module>\u001b[1;34m\u001b[0m\n\u001b[0;32m     14\u001b[0m \u001b[0md\u001b[0m\u001b[1;33m[\u001b[0m\u001b[1;36m2\u001b[0m\u001b[1;33m]\u001b[0m \u001b[1;33m=\u001b[0m \u001b[1;34m'B'\u001b[0m\u001b[1;33m\u001b[0m\u001b[0m\n\u001b[0;32m     15\u001b[0m \u001b[0md_proxy\u001b[0m\u001b[1;33m\u001b[0m\u001b[0m\n\u001b[1;32m---> 16\u001b[1;33m \u001b[0md_proxy\u001b[0m\u001b[1;33m[\u001b[0m\u001b[1;36m2\u001b[0m\u001b[1;33m]\u001b[0m \u001b[1;33m=\u001b[0m \u001b[1;34m'x'\u001b[0m\u001b[1;33m\u001b[0m\u001b[0m\n\u001b[0m",
      "\u001b[1;31mTypeError\u001b[0m: 'mappingproxy' object does not support item assignment"
     ],
     "output_type": "error"
    }
   ],
   "source": [
    "# immutable mappings\n",
    "_ = \"\"\"\n",
    "Since Python 3.3, the types module provides a wrapper class called MappingProxy\n",
    "Type, which, given a mapping, returns a mappingproxy instance that is a read-only but\n",
    "dynamic view of the original mapping. This means that updates to the original mapping\n",
    "can be seen in the mappingproxy, but changes cannot be made through it. See\n",
    "Example 3-9 for a brief demonstration.\n",
    "\"\"\"\n",
    "from types import MappingProxyType\n",
    "d = {1: 'A'}\n",
    "d_proxy = MappingProxyType(d)\n",
    "d_proxy\n",
    "d_proxy[1]\n",
    "d[2] = 'B'\n",
    "d_proxy\n",
    "d_proxy[2] = 'x'\n"
   ]
  },
  {
   "cell_type": "code",
   "execution_count": 15,
   "metadata": {},
   "outputs": [
    {
     "data": {
      "text/plain": [
       "{'eggs', 'spam'}"
      ]
     },
     "execution_count": 15,
     "metadata": {},
     "output_type": "execute_result"
    },
    {
     "data": {
      "text/plain": [
       "['spam', 'eggs']"
      ]
     },
     "execution_count": 15,
     "metadata": {},
     "output_type": "execute_result"
    }
   ],
   "source": [
    "# set theory\n",
    "_ = \"\"\"\n",
    "frozenset is immutable addition of set\n",
    "A set is a collections of unique objects\n",
    "\"\"\"\n",
    "l = ['spam', 'spam', 'eggs', 'spam']\n",
    "set(l)\n",
    "list(set(l))\n",
    "_ = \"\"\"\n",
    "set elements must be hashable, set type is not hashable but frozenset is, so you can have frozenset inside a set\n",
    "\n",
    "a | b: union\n",
    "a & b: intersection\n",
    "a - b: difference\n",
    "\n",
    "\"\"\"\n",
    "# Count occurrences of needles in a haystack\n",
    "# found = len(needles & haystack)\n",
    "# found = len(set(needles) & set(haystack))\n",
    "# found = len(set(needles).intersection(haystack))"
   ]
  },
  {
   "cell_type": "code",
   "execution_count": 20,
   "metadata": {},
   "outputs": [
    {
     "data": {
      "text/plain": [
       "set"
      ]
     },
     "execution_count": 20,
     "metadata": {},
     "output_type": "execute_result"
    },
    {
     "data": {
      "text/plain": [
       "{1}"
      ]
     },
     "execution_count": 20,
     "metadata": {},
     "output_type": "execute_result"
    },
    {
     "data": {
      "text/plain": [
       "1"
      ]
     },
     "execution_count": 20,
     "metadata": {},
     "output_type": "execute_result"
    },
    {
     "data": {
      "text/plain": [
       "set()"
      ]
     },
     "execution_count": 20,
     "metadata": {},
     "output_type": "execute_result"
    },
    {
     "name": "stdout",
     "output_type": "stream",
     "text": [
      "  1           0 LOAD_CONST               0 (1)\n              2 BUILD_SET                1\n              4 RETURN_VALUE\n"
     ]
    }
   ],
   "source": [
    "# set literals\n",
    "# no literal notation for the empty set, write set()!, {} is to create a empty dictionary\n",
    "s = {1}\n",
    "type(s)\n",
    "s\n",
    "s.pop()\n",
    "s\n",
    "\n",
    "_ = \"\"\"\n",
    "Literal set syntax like {1, 2, 3} is both faster and more readable than calling the\n",
    "constructor (e.g., set([1, 2, 3])). The latter form is slower because, to evaluate it,\n",
    "Python has to look up the set name to fetch the constructor, then build a list, and finally\n",
    "pass it to the constructor. In contrast, to process a literal like {1, 2, 3}, Python runs\n",
    "a specialized BUILD_SET bytecode.\n",
    "\"\"\"\n",
    "from dis import dis  # disassembler function to see bytecodes\n",
    "dis('{1}')"
   ]
  },
  {
   "cell_type": "code",
   "execution_count": 18,
   "metadata": {},
   "outputs": [
    {
     "name": "stdout",
     "output_type": "stream",
     "text": [
      "  1           0 LOAD_NAME                0 (set)\n              2 LOAD_CONST               0 (1)\n              4 BUILD_LIST               1\n              6 CALL_FUNCTION            1\n              8 RETURN_VALUE\n"
     ]
    }
   ],
   "source": [
    "dis('set([1])')"
   ]
  },
  {
   "cell_type": "code",
   "execution_count": 19,
   "metadata": {},
   "outputs": [
    {
     "data": {
      "text/plain": [
       "frozenset({0, 1, 2, 3, 4, 5, 6, 7, 8, 9})"
      ]
     },
     "execution_count": 19,
     "metadata": {},
     "output_type": "execute_result"
    }
   ],
   "source": [
    "frozenset(range(10))"
   ]
  },
  {
   "cell_type": "code",
   "execution_count": 21,
   "metadata": {},
   "outputs": [
    {
     "data": {
      "text/plain": [
       "{'#',\n '$',\n '%',\n '+',\n '<',\n '=',\n '>',\n '¢',\n '£',\n '¤',\n '¥',\n '§',\n '©',\n '¬',\n '®',\n '°',\n '±',\n 'µ',\n '¶',\n '×',\n '÷'}"
      ]
     },
     "execution_count": 21,
     "metadata": {},
     "output_type": "execute_result"
    }
   ],
   "source": [
    "# set comprehensions\n",
    "from unicodedata import name\n",
    "{chr(i) for i in range(32, 256) if 'SIGN' in name(chr(i), '')}"
   ]
  },
  {
   "cell_type": "code",
   "execution_count": 2,
   "metadata": {},
   "outputs": [],
   "source": [
    "# Practical Consequences of How dict Works\n",
    "# dicts have significant memory overhead\n",
    "_ = \"\"\"\n",
    "because a dict uses a hash table internally, and hash table must be sparse to work, they are not memory efficient\n",
    "For example, if you are handling a large quantity of records, it\n",
    "makes sense to store them in a list of tuples or named tuples instead of using a list of\n",
    "dictionaries in JSON style, with one dict per record. Replacing dicts with tuples reduces\n",
    "the memory usage in two ways: by removing the overhead of one hash table per record\n",
    "and by not storing the field names again with each record.\n",
    "\n",
    "key search is very fast\n",
    "The dict implementation is an example of trading space for time: dictionaries have\n",
    "significant memory overhead, but they provide fast access regardless of the size of the\n",
    "dictionary\n",
    "\n",
    "key ordering depends on insertion order\n",
    "d1 = {x1, x2} == d2 = {x2, x1}\n",
    "\n",
    "adding items to a dict may change the order of existing keys\n",
    "Whenever you add a new item to a dict, the Python interpreter may decide that the\n",
    "hash table of that dictionary needs to grow. This entails building a new, bigger hash\n",
    "table, and adding all current items to the new table.\n",
    "\n",
    "do not modify dict while scanning\n",
    ".keys(), .items(), .values() return dictionary views, which behave more like sets than the lists\n",
    "\n",
    "当占用空间>1/3后 会自动扩容\n",
    "\"\"\"\n"
   ]
  },
  {
   "cell_type": "code",
   "execution_count": 4,
   "metadata": {},
   "outputs": [],
   "source": [
    "# how sets work——practical consequences\n",
    "_ = \"\"\"\n",
    "the set and frozenset types are also implemented with a hash table\n",
    "\"\"\""
   ]
  },
  {
   "cell_type": "code",
   "execution_count": null,
   "metadata": {},
   "outputs": [],
   "source": []
  }
 ],
 "metadata": {
  "kernelspec": {
   "display_name": "Python 2",
   "language": "python",
   "name": "python2"
  },
  "language_info": {
   "codemirror_mode": {
    "name": "ipython",
    "version": 2
   },
   "file_extension": ".py",
   "mimetype": "text/x-python",
   "name": "python",
   "nbconvert_exporter": "python",
   "pygments_lexer": "ipython2",
   "version": "2.7.6"
  }
 },
 "nbformat": 4,
 "nbformat_minor": 0
}
