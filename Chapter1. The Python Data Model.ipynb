{
 "cells": [
  {
   "cell_type": "code",
   "execution_count": 1,
   "metadata": {
    "collapsed": true
   },
   "outputs": [],
   "source": [
    "from IPython.core.interactiveshell import InteractiveShell\n",
    "InteractiveShell.ast_node_interactivity = \"all\""
   ]
  },
  {
   "cell_type": "code",
   "execution_count": 2,
   "metadata": {},
   "outputs": [
    {
     "data": {
      "text/plain": [
       "'\\nPythonic\\nThe Python interpreter invokes special methods to perform basic object operations, often triggered by special syntax\\nThe special method names are always written with leading and trailing double underscores (i.e., __getitem__)\\nobj[key] is supported by the __getitem__ special method\\n\\nmagic method is slang for special method, also called dunder-getitem so the special methods are also known as dunder methods\\n'"
      ]
     },
     "execution_count": 2,
     "metadata": {},
     "output_type": "execute_result"
    }
   ],
   "source": [
    "\"\"\"\n",
    "Pythonic\n",
    "The Python interpreter invokes special methods to perform basic object operations, often triggered by special syntax\n",
    "The special method names are always written with leading and trailing double underscores (i.e., __getitem__)\n",
    "obj[key] is supported by the __getitem__ special method\n",
    "\n",
    "magic method is slang for special method, also called dunder-getitem so the special methods are also known as dunder methods\n",
    "\"\"\""
   ]
  },
  {
   "cell_type": "code",
   "execution_count": 3,
   "metadata": {},
   "outputs": [
    {
     "data": {
      "text/plain": [
       "Card(rank='7', suit='diamonds')"
      ]
     },
     "execution_count": 3,
     "metadata": {},
     "output_type": "execute_result"
    },
    {
     "data": {
      "text/plain": [
       "52"
      ]
     },
     "execution_count": 3,
     "metadata": {},
     "output_type": "execute_result"
    },
    {
     "data": {
      "text/plain": [
       "Card(rank='2', suit='spades')"
      ]
     },
     "execution_count": 3,
     "metadata": {},
     "output_type": "execute_result"
    },
    {
     "data": {
      "text/plain": [
       "Card(rank='A', suit='hearts')"
      ]
     },
     "execution_count": 3,
     "metadata": {},
     "output_type": "execute_result"
    },
    {
     "data": {
      "text/plain": [
       "Card(rank='K', suit='hearts')"
      ]
     },
     "execution_count": 3,
     "metadata": {},
     "output_type": "execute_result"
    },
    {
     "data": {
      "text/plain": [
       "Card(rank='A', suit='hearts')"
      ]
     },
     "execution_count": 3,
     "metadata": {},
     "output_type": "execute_result"
    },
    {
     "data": {
      "text/plain": [
       "Card(rank='8', suit='clubs')"
      ]
     },
     "execution_count": 3,
     "metadata": {},
     "output_type": "execute_result"
    },
    {
     "data": {
      "text/plain": [
       "[Card(rank='2', suit='spades'),\n Card(rank='3', suit='spades'),\n Card(rank='4', suit='spades')]"
      ]
     },
     "execution_count": 3,
     "metadata": {},
     "output_type": "execute_result"
    },
    {
     "data": {
      "text/plain": [
       "[Card(rank='A', suit='spades'),\n Card(rank='A', suit='diamonds'),\n Card(rank='A', suit='clubs'),\n Card(rank='A', suit='hearts')]"
      ]
     },
     "execution_count": 3,
     "metadata": {},
     "output_type": "execute_result"
    }
   ],
   "source": [
    "# A Pythonic Card Deck\n",
    "import collections\n",
    "\n",
    "Card = collections.namedtuple('Card', ['rank', 'suit'])\n",
    "\n",
    "\n",
    "class FrenchDeck:\n",
    "    ranks = [str(n) for n in range(2, 11)] + list('JQKA')\n",
    "    suits = 'spades diamonds clubs hearts'.split()\n",
    "\n",
    "    def __init__(self):\n",
    "        self._cards = [Card(rank, suit) for suit in self.suits\n",
    "                                        for rank in self.ranks]\n",
    "    \n",
    "    def __len__(self):\n",
    "        return len(self._cards)\n",
    "    \n",
    "    def __getitem__(self, position):\n",
    "        return self._cards[position]\n",
    "    \n",
    "beer_card = Card('7', 'diamonds')\n",
    "beer_card\n",
    "\n",
    "deck = FrenchDeck()\n",
    "len(deck)\n",
    "\n",
    "deck[0]\n",
    "deck[-1]    # what __getitem__ method provides\n",
    "\n",
    "from random import choice\n",
    "choice(deck)\n",
    "choice(deck)\n",
    "choice(deck)\n",
    "\n",
    "deck[:3]\n",
    "deck[12::13]    # __getitem__ delegates to the [] operator so slicing is supported\n",
    "\n",
    "# __getitem__ -> iterable\n",
    "# for card in deck:\n",
    "#     print(card)"
   ]
  },
  {
   "cell_type": "code",
   "execution_count": 4,
   "metadata": {},
   "outputs": [
    {
     "data": {
      "text/plain": [
       "True"
      ]
     },
     "execution_count": 4,
     "metadata": {},
     "output_type": "execute_result"
    },
    {
     "data": {
      "text/plain": [
       "False"
      ]
     },
     "execution_count": 4,
     "metadata": {},
     "output_type": "execute_result"
    },
    {
     "name": "stdout",
     "output_type": "stream",
     "text": [
      "Card(rank='2', suit='clubs')\nCard(rank='2', suit='diamonds')\nCard(rank='2', suit='hearts')\nCard(rank='2', suit='spades')\nCard(rank='3', suit='clubs')\nCard(rank='3', suit='diamonds')\nCard(rank='3', suit='hearts')\nCard(rank='3', suit='spades')\nCard(rank='4', suit='clubs')\nCard(rank='4', suit='diamonds')\nCard(rank='4', suit='hearts')\nCard(rank='4', suit='spades')\nCard(rank='5', suit='clubs')\nCard(rank='5', suit='diamonds')\nCard(rank='5', suit='hearts')\nCard(rank='5', suit='spades')\nCard(rank='6', suit='clubs')\nCard(rank='6', suit='diamonds')\nCard(rank='6', suit='hearts')\nCard(rank='6', suit='spades')\nCard(rank='7', suit='clubs')\nCard(rank='7', suit='diamonds')\nCard(rank='7', suit='hearts')\nCard(rank='7', suit='spades')\nCard(rank='8', suit='clubs')\nCard(rank='8', suit='diamonds')\nCard(rank='8', suit='hearts')\nCard(rank='8', suit='spades')\nCard(rank='9', suit='clubs')\nCard(rank='9', suit='diamonds')\nCard(rank='9', suit='hearts')\nCard(rank='9', suit='spades')\nCard(rank='10', suit='clubs')\nCard(rank='10', suit='diamonds')\nCard(rank='10', suit='hearts')\nCard(rank='10', suit='spades')\nCard(rank='J', suit='clubs')\nCard(rank='J', suit='diamonds')\nCard(rank='J', suit='hearts')\nCard(rank='J', suit='spades')\nCard(rank='Q', suit='clubs')\nCard(rank='Q', suit='diamonds')\nCard(rank='Q', suit='hearts')\nCard(rank='Q', suit='spades')\nCard(rank='K', suit='clubs')\nCard(rank='K', suit='diamonds')\nCard(rank='K', suit='hearts')\nCard(rank='K', suit='spades')\nCard(rank='A', suit='clubs')\nCard(rank='A', suit='diamonds')\nCard(rank='A', suit='hearts')\nCard(rank='A', suit='spades')\n"
     ]
    }
   ],
   "source": [
    "Card('Q', 'hearts') in deck\n",
    "Card('7', 'beasts') in deck\n",
    "\n",
    "suit_values = dict(spades=3, hearts=2, diamonds=1, clubs=0)\n",
    "\n",
    "def spades_high(card):\n",
    "    rank_value = FrenchDeck.ranks.index(card.rank)\n",
    "    return rank_value * len(suit_values) + suit_values[card.suit]\n",
    "\n",
    "for card in sorted(deck, key=spades_high):\n",
    "    print(card)\n",
    "\n",
    "# a FrenchDeck cannot be shuffled, because it is immutable: the cards and their positions cannot be changed"
   ]
  },
  {
   "cell_type": "code",
   "execution_count": 9,
   "metadata": {},
   "outputs": [
    {
     "data": {
      "text/plain": [
       "Vector(4, 5)"
      ]
     },
     "execution_count": 9,
     "metadata": {},
     "output_type": "execute_result"
    },
    {
     "data": {
      "text/plain": [
       "4.47213595499958"
      ]
     },
     "execution_count": 9,
     "metadata": {},
     "output_type": "execute_result"
    },
    {
     "data": {
      "text/plain": [
       "Vector(6, 12)"
      ]
     },
     "execution_count": 9,
     "metadata": {},
     "output_type": "execute_result"
    },
    {
     "data": {
      "text/plain": [
       "13.416407864998739"
      ]
     },
     "execution_count": 9,
     "metadata": {},
     "output_type": "execute_result"
    }
   ],
   "source": [
    "# if you need to invoke a special method, it is usually better to call the related built-in function(len, iter, str...)\n",
    "# emulating numeric types\n",
    "# a simple two-dimensional vector class\n",
    "from math import hypot\n",
    "\n",
    "class Vector:\n",
    "    def __init__(self, x=0, y=0):\n",
    "        self.x = x\n",
    "        self.y = y\n",
    " \n",
    "    def __repr__(self):\n",
    "        return 'Vector(%r, %r)' % (self.x, self.y)\n",
    "\n",
    "    def __abs__(self):\n",
    "        return hypot(self.x, self.y)\n",
    "\n",
    "    def __bool__(self):\n",
    "        return bool(abs(self))\n",
    "\n",
    "    def __add__(self, other):\n",
    "        x = self.x + other.x\n",
    "        y = self.y + other.y\n",
    "        return Vector(x, y)\n",
    "\n",
    "    def __mul__(self, scalar):\n",
    "        return Vector(self.x * scalar, self.y * scalar)\n",
    "\n",
    "    \n",
    "v1 = Vector(2, 4)   # call __init__\n",
    "v2 = Vector(2, 1)\n",
    "v1 + v2     # __repr__ and __add__\n",
    "\n",
    "abs(v1)     # __abs__\n",
    "v1 * 3      # __mul__\n",
    "abs(v1 * 3)"
   ]
  },
  {
   "cell_type": "code",
   "execution_count": 14,
   "metadata": {},
   "outputs": [
    {
     "data": {
      "text/plain": [
       "'\\nthe __repr__ special method is called by the repr built-in to get the string representation of the object for inspection\\nThe interactive console and debugger call repr on the results of the expressions evaluated,\\nas does the %r placeholder in classic formatting with the % operator\\ndifferences between __str__ and __repr__: https://stackoverflow.com/questions/1436703/difference-between-str-and-repr\\nThe goal of __repr__ is to be unambiguous\\nThe goal of __str__ is to be readable\\nImplement __repr__ for any class you implement. This should be second nature. \\nImplement __str__ if you think it would be useful to have a string version which errs on the side of readability\\nif __repr__ is defined, and __str__ is not, the object will behave as though __str__=__repr__.\\nContainer’s __str__ uses contained objects’ __repr__\\n'"
      ]
     },
     "execution_count": 14,
     "metadata": {},
     "output_type": "execute_result"
    },
    {
     "data": {
      "text/plain": [
       "'\\n__add__, __mul__.\\nthe methods create and return a new instance\\nthis example only allows multiply a Vector by a number but not a number by a Vector\\n'"
      ]
     },
     "execution_count": 14,
     "metadata": {},
     "output_type": "execute_result"
    },
    {
     "data": {
      "text/plain": [
       "'\\nboolean context such as the expression controlling an if or while statement\\nbasically bool(x) calls x.__bool__() and uses the result. if __bool__ is not implemented python tries to invoke x.__len__()\\nif returns zero bool returns false otherwise returns true\\n'"
      ]
     },
     "execution_count": 14,
     "metadata": {},
     "output_type": "execute_result"
    },
    {
     "data": {
      "text/plain": [
       "'\\npracticality beats purity\\nlen is not called as a method because it gets special treatment as part of the Python data model\\n__len__\\n'"
      ]
     },
     "execution_count": 14,
     "metadata": {},
     "output_type": "execute_result"
    }
   ],
   "source": [
    "# string representation\n",
    "\"\"\"\n",
    "the __repr__ special method is called by the repr built-in to get the string representation of the object for inspection\n",
    "The interactive console and debugger call repr on the results of the expressions evaluated,\n",
    "as does the %r placeholder in classic formatting with the % operator\n",
    "differences between __str__ and __repr__: https://stackoverflow.com/questions/1436703/difference-between-str-and-repr\n",
    "The goal of __repr__ is to be unambiguous\n",
    "The goal of __str__ is to be readable\n",
    "Implement __repr__ for any class you implement. This should be second nature. \n",
    "Implement __str__ if you think it would be useful to have a string version which errs on the side of readability\n",
    "if __repr__ is defined, and __str__ is not, the object will behave as though __str__=__repr__.\n",
    "Container’s __str__ uses contained objects’ __repr__\n",
    "\"\"\"\n",
    "\n",
    "# arithmetic operators\n",
    "\"\"\"\n",
    "__add__, __mul__.\n",
    "the methods create and return a new instance\n",
    "this example only allows multiply a Vector by a number but not a number by a Vector\n",
    "\"\"\"\n",
    "\n",
    "# boolean value of a custom type\n",
    "\"\"\"\n",
    "boolean context such as the expression controlling an if or while statement\n",
    "basically bool(x) calls x.__bool__() and uses the result. if __bool__ is not implemented python tries to invoke x.__len__()\n",
    "if returns zero bool returns false otherwise returns true\n",
    "\"\"\"\n",
    "\n",
    "# overview of special methods\n",
    "\n",
    "# why len is not a method\n",
    "\"\"\"\n",
    "practicality beats purity\n",
    "len is not called as a method because it gets special treatment as part of the Python data model\n",
    "__len__\n",
    "\"\"\""
   ]
  },
  {
   "cell_type": "code",
   "execution_count": null,
   "metadata": {},
   "outputs": [],
   "source": []
  }
 ],
 "metadata": {
  "kernelspec": {
   "display_name": "Python 2",
   "language": "python",
   "name": "python2"
  },
  "language_info": {
   "codemirror_mode": {
    "name": "ipython",
    "version": 2
   },
   "file_extension": ".py",
   "mimetype": "text/x-python",
   "name": "python",
   "nbconvert_exporter": "python",
   "pygments_lexer": "ipython2",
   "version": "2.7.6"
  }
 },
 "nbformat": 4,
 "nbformat_minor": 0
}
