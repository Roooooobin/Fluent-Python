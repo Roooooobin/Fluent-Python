{
 "cells": [
  {
   "cell_type": "code",
   "execution_count": 1,
   "metadata": {
    "collapsed": true
   },
   "outputs": [],
   "source": [
    "from IPython.core.interactiveshell import InteractiveShell\n",
    "InteractiveShell.ast_node_interactivity = \"all\""
   ]
  },
  {
   "cell_type": "code",
   "execution_count": 3,
   "metadata": {},
   "outputs": [
    {
     "name": "stdout",
     "output_type": "stream",
     "text": [
      "2\n"
     ]
    }
   ],
   "source": [
    "_ = \"\"\"\n",
    "imperative languages（命令式编程语言）\n",
    "functions in Python are first-class objects\n",
    "Programming language theorists define a “first-class object” as a program entity that can be\n",
    "• Created at runtime\n",
    "• Assigned to a variable or element in a data structure\n",
    "• Passed as an argument to a function\n",
    "• Returned as the result of a function\n",
    "Integers, strings, and dictionaries are other examples of first-class objects in Python—\n",
    "nothing fancy here. But if you came to Python from a language where functions are not\n",
    "first-class citizens, this chapter and the rest of Part III of the book focuses on the implications\n",
    "and practical applications of treating functions as objects.\n",
    "\"\"\"\n",
    "func = lambda x: x+1\n",
    "\n",
    "\n",
    "def foo(fun):\n",
    "    print(fun(1))\n",
    "\n",
    "\n",
    "foo(func)   # function itself can be pass in to a function\n"
   ]
  },
  {
   "cell_type": "code",
   "execution_count": 7,
   "metadata": {},
   "outputs": [
    {
     "data": {
      "text/plain": [
       "25852016738884976640000"
      ]
     },
     "execution_count": 7,
     "metadata": {},
     "output_type": "execute_result"
    },
    {
     "data": {
      "text/plain": [
       "'returns n!'"
      ]
     },
     "execution_count": 7,
     "metadata": {},
     "output_type": "execute_result"
    },
    {
     "data": {
      "text/plain": [
       "function"
      ]
     },
     "execution_count": 7,
     "metadata": {},
     "output_type": "execute_result"
    },
    {
     "name": "stdout",
     "output_type": "stream",
     "text": [
      "Help on function factorial in module __main__:\n\nfactorial(n)\n    returns n!\n\n"
     ]
    },
    {
     "data": {
      "text/plain": [
       "<function __main__.factorial(n)>"
      ]
     },
     "execution_count": 7,
     "metadata": {},
     "output_type": "execute_result"
    },
    {
     "data": {
      "text/plain": [
       "120"
      ]
     },
     "execution_count": 7,
     "metadata": {},
     "output_type": "execute_result"
    },
    {
     "data": {
      "text/plain": [
       "[1, 1, 2, 6, 24, 120, 720, 5040, 40320, 362880, 3628800]"
      ]
     },
     "execution_count": 7,
     "metadata": {},
     "output_type": "execute_result"
    }
   ],
   "source": [
    "# treating a function like an object\n",
    "def factorial(n):\n",
    "    '''returns n!'''\n",
    "    return 1 if n < 2 else n * factorial(n-1)\n",
    "\n",
    "\n",
    "factorial(23)\n",
    "factorial.__doc__\n",
    "type(factorial)\n",
    "help(factorial)\n",
    "\n",
    "fact = factorial\n",
    "fact\n",
    "fact(5)\n",
    "list(map(factorial, range(11)))\n"
   ]
  },
  {
   "cell_type": "code",
   "execution_count": 12,
   "metadata": {},
   "outputs": [
    {
     "data": {
      "text/plain": [
       "['fig', 'apple', 'cherry', 'banana', 'raspberry', 'strawberry']"
      ]
     },
     "execution_count": 12,
     "metadata": {},
     "output_type": "execute_result"
    },
    {
     "data": {
      "text/plain": [
       "10"
      ]
     },
     "execution_count": 12,
     "metadata": {},
     "output_type": "execute_result"
    },
    {
     "data": {
      "text/plain": [
       "[1, 6, 120]"
      ]
     },
     "execution_count": 12,
     "metadata": {},
     "output_type": "execute_result"
    },
    {
     "data": {
      "text/plain": [
       "[1, 6, 120]"
      ]
     },
     "execution_count": 12,
     "metadata": {},
     "output_type": "execute_result"
    }
   ],
   "source": [
    "# higher-order functions\n",
    "from functools import reduce\n",
    "\n",
    "_ = \"\"\"\n",
    "a function that takes a function as argument or returns a function as the result is a higher-order function\n",
    "map, sort(key lets you provide a function), filter, apply\n",
    "\"\"\"\n",
    "fruits = ['strawberry', 'fig', 'apple', 'cherry', 'raspberry', 'banana']\n",
    "sorted(fruits, key=len)  # any one-argument function can be used as the key\n",
    "reduce(lambda x, y: x+y, [1, 2, 3, 4])  # reduce做累加, not built-in since Python3.0\n",
    "_ = \"\"\"\n",
    "listcomps and genexps\n",
    "in python3, map and filter return generators——a form of iterator\n",
    "The common idea of sum and reduce is to apply some operation to successive items in\n",
    "a sequence, accumulating previous results, thus reducing a sequence of values to a single\n",
    "value.\n",
    "\"\"\"\n",
    "[factorial(n) for n in range(6) if n % 2]\n",
    "list(map(factorial, filter(lambda n: n % 2, range(6))))"
   ]
  },
  {
   "cell_type": "code",
   "execution_count": 13,
   "metadata": {},
   "outputs": [
    {
     "data": {
      "text/plain": [
       "['banana', 'apple', 'fig', 'raspberry', 'strawberry', 'cherry']"
      ]
     },
     "execution_count": 13,
     "metadata": {},
     "output_type": "execute_result"
    }
   ],
   "source": [
    "# anonymous functions\n",
    "_ = \"\"\"\n",
    "However, the simple syntax of Python limits the body of lambda functions to be pure\n",
    "expressions. In other words, the body of a lambda cannot make assignments or use any\n",
    "other Python statement such as while, try, etc\n",
    "\"\"\"\n",
    "fruits = ['strawberry', 'fig', 'apple', 'cherry', 'raspberry', 'banana']\n",
    "sorted(fruits, key=lambda word: word[::-1])\n"
   ]
  },
  {
   "cell_type": "code",
   "execution_count": 3,
   "metadata": {},
   "outputs": [
    {
     "data": {
      "text/plain": [
       "'<br />'"
      ]
     },
     "execution_count": 3,
     "metadata": {},
     "output_type": "execute_result"
    },
    {
     "data": {
      "text/plain": [
       "'<p>hello</p>'"
      ]
     },
     "execution_count": 3,
     "metadata": {},
     "output_type": "execute_result"
    },
    {
     "data": {
      "text/plain": [
       "'<p>hello</p>\\n<p>world</p>'"
      ]
     },
     "execution_count": 3,
     "metadata": {},
     "output_type": "execute_result"
    },
    {
     "data": {
      "text/plain": [
       "'<p class=\"sidebar\">hello</p>\\n<p class=\"sidebar\">world</p>'"
      ]
     },
     "execution_count": 3,
     "metadata": {},
     "output_type": "execute_result"
    },
    {
     "data": {
      "text/plain": [
       "'<img class=\"framed\" src=\"sunset.jpg\" title=\"Sunset Boulevard\" />'"
      ]
     },
     "execution_count": 3,
     "metadata": {},
     "output_type": "execute_result"
    },
    {
     "data": {
      "text/plain": [
       "(1, 2)"
      ]
     },
     "execution_count": 3,
     "metadata": {},
     "output_type": "execute_result"
    }
   ],
   "source": [
    "# from positional to keyword-only parameters\n",
    "def tag(name, *content, cls=None, **attrs):\n",
    "    \"\"\"Generate one or more HTML tags\"\"\"\n",
    "    if cls is not None:\n",
    "        attrs['class'] = cls\n",
    "    if attrs:\n",
    "        attr_str = ''.join(' %s=\"%s\"' % (attr, value)\n",
    "                           for attr, value\n",
    "                           in sorted(attrs.items()))\n",
    "    else:\n",
    "        attr_str = ''\n",
    "    if content:\n",
    "        return '\\n'.join('<%s%s>%s</%s>' % (name, attr_str, c, name) for c in content)\n",
    "    else:\n",
    "        return '<%s%s />' % (name, attr_str)\n",
    "\n",
    "\n",
    "tag('br')\n",
    "tag('p', 'hello')\n",
    "tag('p', 'hello', 'world')\n",
    "tag('p', 'hello', 'world', cls='sidebar')\n",
    "\n",
    "my_tag = {'name': 'img', 'title': 'Sunset Boulevard',\n",
    "          'src': 'sunset.jpg', 'cls': 'framed'}\n",
    "tag(**my_tag)\n",
    "_ = \"\"\"\n",
    "keyword-only arguments are a new feature in Python3.\n",
    "it will never capture unnamed positional arguments\n",
    "To specify keyword-only arguments when defining a function, name them after the argument prefixed with *.\n",
    "\"\"\"\n",
    "def f(a, *, b):  # b is a keyword-only argument\n",
    "    return a, b\n",
    "\n",
    "\n",
    "f(1, b=2)"
   ]
  },
  {
   "cell_type": "code",
   "execution_count": 5,
   "metadata": {},
   "outputs": [
    {
     "data": {
      "text/plain": [
       "{'text': str, 'max_len': 'int > 0', 'return': str}"
      ]
     },
     "execution_count": 5,
     "metadata": {},
     "output_type": "execute_result"
    }
   ],
   "source": [
    "# functions annotations\n",
    "def clip(text: str, max_len: 'int > 0'=80) -> str:\n",
    "    \"\"\"\n",
    "    :param text: str\n",
    "    :param max_len: int and > 0, default=80\n",
    "    :return: str\n",
    "    \"\"\"\n",
    "    pass\n",
    "\n",
    "\n",
    "clip.__annotations__"
   ]
  },
  {
   "cell_type": "code",
   "execution_count": 7,
   "metadata": {},
   "outputs": [
    {
     "data": {
      "text/plain": [
       "6"
      ]
     },
     "execution_count": 7,
     "metadata": {},
     "output_type": "execute_result"
    },
    {
     "name": "stdout",
     "output_type": "stream",
     "text": [
      "('Sao Paulo', 'BR', 19.649, (-23.547778, -46.635833))\n('Delhi NCR', 'IN', 21.935, (28.613889, 77.208889))\n('Tokyo', 'JP', 36.933, (35.689722, 139.691667))\n('Mexico City', 'MX', 20.142, (19.433333, -99.133333))\n('New York-Newark', 'US', 20.104, (40.808611, -74.020386))\n('JP', 'Tokyo')\n('IN', 'Delhi NCR')\n('MX', 'Mexico City')\n('US', 'New York-Newark')\n('BR', 'Sao Paulo')\n"
     ]
    },
    {
     "data": {
      "text/plain": [
       "Metropolis(name='Tokyo', cc='JP', pop=36.933, coord=LatLong(lat=35.689722, long=139.691667))"
      ]
     },
     "execution_count": 7,
     "metadata": {},
     "output_type": "execute_result"
    },
    {
     "data": {
      "text/plain": [
       "35.689722"
      ]
     },
     "execution_count": 7,
     "metadata": {},
     "output_type": "execute_result"
    },
    {
     "name": "stdout",
     "output_type": "stream",
     "text": [
      "('Sao Paulo', -23.547778)\n('Mexico City', 19.433333)\n('Delhi NCR', 28.613889)\n('Tokyo', 35.689722)\n('New York-Newark', 40.808611)\n"
     ]
    },
    {
     "data": {
      "text/plain": [
       "'THE TIME HAS COME'"
      ]
     },
     "execution_count": 7,
     "metadata": {},
     "output_type": "execute_result"
    },
    {
     "data": {
      "text/plain": [
       "'The-time-has-come'"
      ]
     },
     "execution_count": 7,
     "metadata": {},
     "output_type": "execute_result"
    }
   ],
   "source": [
    "# packages for functional programming\n",
    "# operator and functools\n",
    "# operator module\n",
    "from functools import reduce\n",
    "from operator import mul, itemgetter\n",
    "\n",
    "def fact(n):\n",
    "    return reduce(lambda a, b: a * b, range(1, n + 1))\n",
    "fact(3)\n",
    "\n",
    "def fact2(n):\n",
    "    return reduce(mul, range(1, n + 1))\n",
    "\n",
    "# itemgetter, attrgetter\n",
    "_ = \"\"\"\n",
    "a common use: sort a list of tuples by the value of one field\n",
    "Essentially, itemgetter(1) does the same as lambda fields: fields[1]: create a\n",
    "function that, given a collection, returns the item at index 1.\n",
    "\n",
    "Because itemgetter uses the [] operator, it supports not only sequences but also mappings\n",
    "and any class that implements __getitem__.\n",
    "\"\"\"\n",
    "metro_data = [\n",
    "    ('Tokyo', 'JP', 36.933, (35.689722, 139.691667)),\n",
    "    ('Delhi NCR', 'IN', 21.935, (28.613889, 77.208889)),\n",
    "    ('Mexico City', 'MX', 20.142, (19.433333, -99.133333)),\n",
    "    ('New York-Newark', 'US', 20.104, (40.808611, -74.020386)),\n",
    "    ('Sao Paulo', 'BR', 19.649, (-23.547778, -46.635833)),\n",
    "]\n",
    "for city in sorted(metro_data, key=itemgetter(1)):\n",
    "    print(city)\n",
    "\n",
    "cc_name = itemgetter(1, 0)\n",
    "for city in metro_data:\n",
    "    print(cc_name(city))\n",
    "\n",
    "# attrgetter(extract object attributes by name)\n",
    "# if any argument name contains a . (dot), attrgetter navigates through nested objects to retrive the attribute\n",
    "from collections import namedtuple\n",
    "\n",
    "LatLong = namedtuple('LatLong', 'lat long')\n",
    "Metropolis = namedtuple('Metropolis', 'name cc pop coord')\n",
    "metro_areas = [Metropolis(name, cc, pop, LatLong(lat, long))\n",
    "               for name, cc, pop, (lat, long) in metro_data]\n",
    "metro_areas[0]\n",
    "metro_areas[0].coord.lat\n",
    "from operator import attrgetter\n",
    "\n",
    "name_lat = attrgetter('name', 'coord.lat')\n",
    "for city in sorted(metro_areas, key=attrgetter('coord.lat')):\n",
    "    print(name_lat(city))\n",
    "\n",
    "# methodcaller\n",
    "from operator import methodcaller\n",
    "s = 'The time has come'\n",
    "upcase = methodcaller('upper')\n",
    "upcase(s)\n",
    "hiphenate = methodcaller('replace', ' ', '-')\n",
    "hiphenate(s)"
   ]
  },
  {
   "cell_type": "code",
   "execution_count": 5,
   "metadata": {},
   "outputs": [
    {
     "data": {
      "text/plain": [
       "21"
      ]
     },
     "execution_count": 5,
     "metadata": {},
     "output_type": "execute_result"
    },
    {
     "data": {
      "text/plain": [
       "[3, 6, 9, 12, 15, 18, 21, 24, 27]"
      ]
     },
     "execution_count": 5,
     "metadata": {},
     "output_type": "execute_result"
    },
    {
     "data": {
      "text/plain": [
       "'<img class=\"pic-frame\" src=\"wumpus.jpg\" />'"
      ]
     },
     "execution_count": 5,
     "metadata": {},
     "output_type": "execute_result"
    },
    {
     "data": {
      "text/plain": [
       "False"
      ]
     },
     "execution_count": 5,
     "metadata": {},
     "output_type": "execute_result"
    },
    {
     "data": {
      "text/plain": [
       "True"
      ]
     },
     "execution_count": 5,
     "metadata": {},
     "output_type": "execute_result"
    }
   ],
   "source": [
    "# freezing arguments with functools.partial\n",
    "# functools.partial is a higher-order function that allows partial application of a function\n",
    "from operator import mul\n",
    "from functools import partial\n",
    "triple = partial(mul, 3)    # binding first positional argument to 3\n",
    "triple(7)\n",
    "list(map(triple, range(1, 10)))\n",
    "\n",
    "picture = partial(tag, 'img', cls='pic-frame')  # partial takes a callable as first argument, followed by an arbitrary number of positional and keyword arguments to bind.\n",
    "picture(src='wumpus.jpg')\n",
    "\n",
    "# the functools.partialmethod does the same job as partial, but is designed to work with methods\n",
    "# 类中的方法由于第一个参数是self，partial就会报错，使用partialmethod\n",
    "from functools import partialmethod\n",
    "class Cell(object):\n",
    "    def __init__(self):\n",
    "        self._alive = False\n",
    "    @property\n",
    "    def alive(self):\n",
    "        return self._alive\n",
    "    def set_state(self, state):\n",
    "        self._alive = bool(state)\n",
    "    set_alive = partialmethod(set_state, True)\n",
    "    set_dead = partialmethod(set_state, False)\n",
    "\n",
    "c = Cell()\n",
    "c.alive\n",
    "c.set_alive()\n",
    "c.alive\n"
   ]
  },
  {
   "cell_type": "code",
   "execution_count": null,
   "metadata": {},
   "outputs": [],
   "source": []
  }
 ],
 "metadata": {
  "kernelspec": {
   "display_name": "Python 2",
   "language": "python",
   "name": "python2"
  },
  "language_info": {
   "codemirror_mode": {
    "name": "ipython",
    "version": 2
   },
   "file_extension": ".py",
   "mimetype": "text/x-python",
   "name": "python",
   "nbconvert_exporter": "python",
   "pygments_lexer": "ipython2",
   "version": "2.7.6"
  }
 },
 "nbformat": 4,
 "nbformat_minor": 0
}
