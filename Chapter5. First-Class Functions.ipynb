{
 "cells": [
  {
   "cell_type": "code",
   "execution_count": 1,
   "metadata": {
    "collapsed": true
   },
   "outputs": [],
   "source": [
    "from IPython.core.interactiveshell import InteractiveShell\n",
    "InteractiveShell.ast_node_interactivity = \"all\""
   ]
  },
  {
   "cell_type": "code",
   "execution_count": 3,
   "metadata": {},
   "outputs": [
    {
     "name": "stdout",
     "output_type": "stream",
     "text": [
      "2\n"
     ]
    }
   ],
   "source": [
    "_ = \"\"\"\n",
    "imperative languages（命令式编程语言）\n",
    "functions in Python are first-class objects\n",
    "Programming language theorists define a “first-class object” as a program entity that can be\n",
    "• Created at runtime\n",
    "• Assigned to a variable or element in a data structure\n",
    "• Passed as an argument to a function\n",
    "• Returned as the result of a function\n",
    "Integers, strings, and dictionaries are other examples of first-class objects in Python—\n",
    "nothing fancy here. But if you came to Python from a language where functions are not\n",
    "first-class citizens, this chapter and the rest of Part III of the book focuses on the implications\n",
    "and practical applications of treating functions as objects.\n",
    "\"\"\"\n",
    "func = lambda x: x+1\n",
    "\n",
    "\n",
    "def foo(fun):\n",
    "    print(fun(1))\n",
    "\n",
    "\n",
    "foo(func)   # function itself can be pass in to a function\n"
   ]
  },
  {
   "cell_type": "code",
   "execution_count": 7,
   "metadata": {},
   "outputs": [
    {
     "data": {
      "text/plain": [
       "25852016738884976640000"
      ]
     },
     "execution_count": 7,
     "metadata": {},
     "output_type": "execute_result"
    },
    {
     "data": {
      "text/plain": [
       "'returns n!'"
      ]
     },
     "execution_count": 7,
     "metadata": {},
     "output_type": "execute_result"
    },
    {
     "data": {
      "text/plain": [
       "function"
      ]
     },
     "execution_count": 7,
     "metadata": {},
     "output_type": "execute_result"
    },
    {
     "name": "stdout",
     "output_type": "stream",
     "text": [
      "Help on function factorial in module __main__:\n\nfactorial(n)\n    returns n!\n\n"
     ]
    },
    {
     "data": {
      "text/plain": [
       "<function __main__.factorial(n)>"
      ]
     },
     "execution_count": 7,
     "metadata": {},
     "output_type": "execute_result"
    },
    {
     "data": {
      "text/plain": [
       "120"
      ]
     },
     "execution_count": 7,
     "metadata": {},
     "output_type": "execute_result"
    },
    {
     "data": {
      "text/plain": [
       "[1, 1, 2, 6, 24, 120, 720, 5040, 40320, 362880, 3628800]"
      ]
     },
     "execution_count": 7,
     "metadata": {},
     "output_type": "execute_result"
    }
   ],
   "source": [
    "# treating a function like an object\n",
    "def factorial(n):\n",
    "    '''returns n!'''\n",
    "    return 1 if n < 2 else n * factorial(n-1)\n",
    "\n",
    "\n",
    "factorial(23)\n",
    "factorial.__doc__\n",
    "type(factorial)\n",
    "help(factorial)\n",
    "\n",
    "fact = factorial\n",
    "fact\n",
    "fact(5)\n",
    "list(map(factorial, range(11)))\n"
   ]
  },
  {
   "cell_type": "code",
   "execution_count": 12,
   "metadata": {},
   "outputs": [
    {
     "data": {
      "text/plain": [
       "['fig', 'apple', 'cherry', 'banana', 'raspberry', 'strawberry']"
      ]
     },
     "execution_count": 12,
     "metadata": {},
     "output_type": "execute_result"
    },
    {
     "data": {
      "text/plain": [
       "10"
      ]
     },
     "execution_count": 12,
     "metadata": {},
     "output_type": "execute_result"
    },
    {
     "data": {
      "text/plain": [
       "[1, 6, 120]"
      ]
     },
     "execution_count": 12,
     "metadata": {},
     "output_type": "execute_result"
    },
    {
     "data": {
      "text/plain": [
       "[1, 6, 120]"
      ]
     },
     "execution_count": 12,
     "metadata": {},
     "output_type": "execute_result"
    }
   ],
   "source": [
    "# higher-order functions\n",
    "from functools import reduce\n",
    "\n",
    "_ = \"\"\"\n",
    "a function that takes a function as argument or returns a function as the result is a higher-order function\n",
    "map, sort(key lets you provide a function), filter, apply\n",
    "\"\"\"\n",
    "fruits = ['strawberry', 'fig', 'apple', 'cherry', 'raspberry', 'banana']\n",
    "sorted(fruits, key=len)  # any one-argument function can be used as the key\n",
    "reduce(lambda x, y: x+y, [1, 2, 3, 4])  # reduce做累加, not built-in since Python3.0\n",
    "_ = \"\"\"\n",
    "listcomps and genexps\n",
    "in python3, map and filter return generators——a form of iterator\n",
    "The common idea of sum and reduce is to apply some operation to successive items in\n",
    "a sequence, accumulating previous results, thus reducing a sequence of values to a single\n",
    "value.\n",
    "\"\"\"\n",
    "[factorial(n) for n in range(6) if n % 2]\n",
    "list(map(factorial, filter(lambda n: n % 2, range(6))))"
   ]
  },
  {
   "cell_type": "code",
   "execution_count": 13,
   "metadata": {},
   "outputs": [
    {
     "data": {
      "text/plain": [
       "['banana', 'apple', 'fig', 'raspberry', 'strawberry', 'cherry']"
      ]
     },
     "execution_count": 13,
     "metadata": {},
     "output_type": "execute_result"
    }
   ],
   "source": [
    "# anonymous functions\n",
    "_ = \"\"\"\n",
    "However, the simple syntax of Python limits the body of lambda functions to be pure\n",
    "expressions. In other words, the body of a lambda cannot make assignments or use any\n",
    "other Python statement such as while, try, etc\n",
    "\"\"\"\n",
    "fruits = ['strawberry', 'fig', 'apple', 'cherry', 'raspberry', 'banana']\n",
    "sorted(fruits, key=lambda word: word[::-1])\n"
   ]
  },
  {
   "cell_type": "code",
   "execution_count": null,
   "metadata": {},
   "outputs": [],
   "source": []
  }
 ],
 "metadata": {
  "kernelspec": {
   "display_name": "Python 2",
   "language": "python",
   "name": "python2"
  },
  "language_info": {
   "codemirror_mode": {
    "name": "ipython",
    "version": 2
   },
   "file_extension": ".py",
   "mimetype": "text/x-python",
   "name": "python",
   "nbconvert_exporter": "python",
   "pygments_lexer": "ipython2",
   "version": "2.7.6"
  }
 },
 "nbformat": 4,
 "nbformat_minor": 0
}
