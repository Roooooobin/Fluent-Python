{
 "cells": [
  {
   "cell_type": "code",
   "execution_count": 1,
   "metadata": {
    "collapsed": true
   },
   "outputs": [],
   "source": [
    "from IPython.core.interactiveshell import InteractiveShell\n",
    "InteractiveShell.ast_node_interactivity = \"all\""
   ]
  },
  {
   "cell_type": "code",
   "execution_count": 2,
   "metadata": {},
   "outputs": [
    {
     "data": {
      "text/plain": [
       "'\\nThe standard library offers a rich selection of sequence types implemented in C:\\nContainer sequences:\\n    list, tuple, and collections.deque can hold items of different types\\nFlat sequences\\n    str, bytes, bytearray, memoryview, and array.array hold items of one type\\n    \\nContainer sequences hold references to the objects they contain, which may be of any\\ntype, while flat sequences physically store the value of each item within its own memory\\nspace, and not as distinct objects. Thus, flat sequences are more compact, but they are\\nlimited to holding primitive values like characters, bytes, and numbers\\n\\nMutable sequences\\n    list, bytearray, array.array, collections.deque, and memoryview\\nImmutable sequences\\n    tuple, str, and bytes\\n'"
      ]
     },
     "execution_count": 2,
     "metadata": {},
     "output_type": "execute_result"
    }
   ],
   "source": [
    "\"\"\"\n",
    "The standard library offers a rich selection of sequence types implemented in C:\n",
    "Container sequences:\n",
    "    list, tuple, and collections.deque can hold items of different types\n",
    "Flat sequences\n",
    "    str, bytes, bytearray, memoryview, and array.array hold items of one type\n",
    "    \n",
    "Container sequences hold references to the objects they contain, which may be of any\n",
    "type, while flat sequences physically store the value of each item within its own memory\n",
    "space, and not as distinct objects. Thus, flat sequences are more compact, but they are\n",
    "limited to holding primitive values like characters, bytes, and numbers\n",
    "\n",
    "Mutable sequences\n",
    "    list, bytearray, array.array, collections.deque, and memoryview\n",
    "Immutable sequences\n",
    "    tuple, str, and bytes\n",
    "\"\"\"\n"
   ]
  },
  {
   "cell_type": "code",
   "execution_count": 5,
   "metadata": {},
   "outputs": [
    {
     "data": {
      "text/plain": [
       "'\\nFor brevity, many Python programmers refer to list comprehensions as listcomps, and generator expressions as genexps.\\nI will use these words as well.\\nlistcomps: more readable and often faster \\n'"
      ]
     },
     "execution_count": 5,
     "metadata": {},
     "output_type": "execute_result"
    },
    {
     "data": {
      "text/plain": [
       "[36, 162, 163, 165, 8364, 164]"
      ]
     },
     "execution_count": 5,
     "metadata": {},
     "output_type": "execute_result"
    },
    {
     "data": {
      "text/plain": [
       "[36, 162, 163, 165, 8364, 164]"
      ]
     },
     "execution_count": 5,
     "metadata": {},
     "output_type": "execute_result"
    }
   ],
   "source": [
    "# list comprehensions and generator expressions\n",
    "\"\"\"\n",
    "For brevity, many Python programmers refer to list comprehensions as listcomps, and generator expressions as genexps.\n",
    "I will use these words as well.\n",
    "listcomps: more readable and often faster\n",
    "a listcomp is meant to do one thing only: to build a new list\n",
    "keep it short\n",
    "\"\"\"\n",
    "symbols = '$¢£¥€¤'\n",
    "codes = []\n",
    "for symbol in symbols:\n",
    "    codes.append(ord(symbol))\n",
    "codes\n",
    "\n",
    "codes1 = [ord(symbol) for symbol in symbols]\n",
    "codes1"
   ]
  },
  {
   "cell_type": "code",
   "execution_count": 6,
   "metadata": {},
   "outputs": [
    {
     "data": {
      "text/plain": [
       "[162, 163, 165, 8364, 164]"
      ]
     },
     "execution_count": 6,
     "metadata": {},
     "output_type": "execute_result"
    },
    {
     "data": {
      "text/plain": [
       "[162, 163, 165, 8364, 164]"
      ]
     },
     "execution_count": 6,
     "metadata": {},
     "output_type": "execute_result"
    }
   ],
   "source": [
    "# listcomps versus map and filter\n",
    "# listcomps do everything the map and filter functions do\n",
    "symbols = '$¢£¥€¤'\n",
    "beyond_ascii = [ord(s) for s in symbols if ord(s) > 127]\n",
    "beyond_ascii\n",
    "beyond_ascii = list(filter(lambda c: c > 127, map(ord, symbols)))\n",
    "beyond_ascii"
   ]
  },
  {
   "cell_type": "code",
   "execution_count": 7,
   "metadata": {},
   "outputs": [
    {
     "data": {
      "text/plain": [
       "[('black', 'S'),\n ('black', 'M'),\n ('black', 'L'),\n ('white', 'S'),\n ('white', 'M'),\n ('white', 'L')]"
      ]
     },
     "execution_count": 7,
     "metadata": {},
     "output_type": "execute_result"
    },
    {
     "name": "stdout",
     "output_type": "stream",
     "text": [
      "('black', 'S')\n('black', 'M')\n('black', 'L')\n('white', 'S')\n('white', 'M')\n('white', 'L')\n"
     ]
    }
   ],
   "source": [
    "# Cartesian Products\n",
    "colors = ['black', 'white']\n",
    "sizes = ['S', 'M', 'L']\n",
    "tshirts = [(color, size) for color in colors for size in sizes]\n",
    "tshirts\n",
    "# equals:\n",
    "for color in colors:\n",
    "    for size in sizes:\n",
    "        print((color, size))"
   ]
  },
  {
   "cell_type": "code",
   "execution_count": 9,
   "metadata": {},
   "outputs": [
    {
     "data": {
      "text/plain": [
       "'\\na genexp saves memory because it yields items one by one using the iterator\\nprotocol instead of building a whole list just to feed another constructor\\n\\nenclosed in parentheses rather than brackets\\n'"
      ]
     },
     "execution_count": 9,
     "metadata": {},
     "output_type": "execute_result"
    },
    {
     "data": {
      "text/plain": [
       "(36, 162, 163, 165, 8364, 164)"
      ]
     },
     "execution_count": 9,
     "metadata": {},
     "output_type": "execute_result"
    },
    {
     "data": {
      "text/plain": [
       "array('I', [36, 162, 163, 165, 8364, 164])"
      ]
     },
     "execution_count": 9,
     "metadata": {},
     "output_type": "execute_result"
    }
   ],
   "source": [
    "# generator expression\n",
    "\"\"\"\n",
    "a genexp saves memory because it yields items one by one using the iterator\n",
    "protocol instead of building a whole list just to feed another constructor\n",
    "\n",
    "enclosed in parentheses rather than brackets\n",
    "\"\"\"\n",
    "symbols = '$¢£¥€¤'\n",
    "tuple(ord(symbol) for symbol in symbols)\n",
    "\n",
    "import array\n",
    "array.array('I', (ord(symbol) for symbol in symbols))"
   ]
  },
  {
   "cell_type": "code",
   "execution_count": 2,
   "metadata": {},
   "outputs": [
    {
     "data": {
      "text/plain": [
       "'\\ntuples do double duty: they can be used as immutable lists and also as records with no field name\\nTuples hold records: each item in the tuple holds the data for one field and the position of the item gives its meaning.\\n'"
      ]
     },
     "execution_count": 2,
     "metadata": {},
     "output_type": "execute_result"
    }
   ],
   "source": [
    "# tuples are not just immutable lists\n",
    "\"\"\"\n",
    "tuples do double duty: they can be used as immutable lists and also as records with no field name\n",
    "Tuples hold records: each item in the tuple holds the data for one field and the position of the item gives its meaning.\n",
    "\"\"\"\n",
    "# examples of tuple used as records\n",
    "lax_coordinates = (33.9425, -118.408056)\n",
    "city, year, pop, chg, area = ('Tokyo', 2003, 32450, 0.66, 8014)\n",
    "traveler_ids = [('USA', '31195855'), ('BRA', 'CE342567'), ('ESP', 'XDA205856')]\n"
   ]
  },
  {
   "cell_type": "code",
   "execution_count": 7,
   "metadata": {},
   "outputs": [
    {
     "data": {
      "text/plain": [
       "33.9425"
      ]
     },
     "execution_count": 7,
     "metadata": {},
     "output_type": "execute_result"
    },
    {
     "data": {
      "text/plain": [
       "-118.408056"
      ]
     },
     "execution_count": 7,
     "metadata": {},
     "output_type": "execute_result"
    },
    {
     "data": {
      "text/plain": [
       "3"
      ]
     },
     "execution_count": 7,
     "metadata": {},
     "output_type": "execute_result"
    },
    {
     "data": {
      "text/plain": [
       "2"
      ]
     },
     "execution_count": 7,
     "metadata": {},
     "output_type": "execute_result"
    },
    {
     "data": {
      "text/plain": [
       "(2, 4)"
      ]
     },
     "execution_count": 7,
     "metadata": {},
     "output_type": "execute_result"
    },
    {
     "data": {
      "text/plain": [
       "(2, 4)"
      ]
     },
     "execution_count": 7,
     "metadata": {},
     "output_type": "execute_result"
    },
    {
     "data": {
      "text/plain": [
       "(2, 4)"
      ]
     },
     "execution_count": 7,
     "metadata": {},
     "output_type": "execute_result"
    },
    {
     "data": {
      "text/plain": [
       "(0, 1, [2, 3, 4])"
      ]
     },
     "execution_count": 7,
     "metadata": {},
     "output_type": "execute_result"
    },
    {
     "data": {
      "text/plain": [
       "(0, [1, 2], 3, 4)"
      ]
     },
     "execution_count": 7,
     "metadata": {},
     "output_type": "execute_result"
    }
   ],
   "source": [
    "# tuple unpacking\n",
    "# tuple unpacking works with any iterable object The only requirement\n",
    "# is that the iterable yields exactly one item per variable in the receiving tuple\n",
    "# parallel assignment\n",
    "lax_coordinates = (33.9425, -118.408056)\n",
    "latitude, longitude = lax_coordinates\n",
    "latitude\n",
    "longitude\n",
    "\n",
    "# swap the values of variables without using a temporary variable\n",
    "a = 2\n",
    "b = 3\n",
    "a, b = b, a\n",
    "a\n",
    "b\n",
    "\n",
    "# Another example of tuple unpacking is prefixing an argument with a star when calling a function\n",
    "divmod(20, 8)\n",
    "t = (20, 8)\n",
    "divmod(*t)\n",
    "quotient, remainder = divmod(*t)\n",
    "quotient, remainder\n",
    "\n",
    "# placeholder _\n",
    "\n",
    "# using * to grab excess items\n",
    "a, b, *rest = range(5)\n",
    "a, b, rest\n",
    "a, *body, c, d = range(5)\n",
    "a, body, c, d\n",
    "\n",
    "# nested tuple: (a, (b, c), d)"
   ]
  },
  {
   "cell_type": "code",
   "execution_count": 10,
   "metadata": {},
   "outputs": [
    {
     "data": {
      "text/plain": [
       "'\\nInstances of a class that you build with namedtuple take exactly the same  amount  of  memory  as  \\ntuples  because  the  field  names  are stored in the class. They use less memory than a regular \\nobject because they don’t store attributes in a per-instance     dict    .\\n'"
      ]
     },
     "execution_count": 10,
     "metadata": {},
     "output_type": "execute_result"
    },
    {
     "data": {
      "text/plain": [
       "City(name='Tokyo', country='JP', population=36.933, coordinates=(35.689722, 139.691667))"
      ]
     },
     "execution_count": 10,
     "metadata": {},
     "output_type": "execute_result"
    },
    {
     "data": {
      "text/plain": [
       "36.933"
      ]
     },
     "execution_count": 10,
     "metadata": {},
     "output_type": "execute_result"
    },
    {
     "data": {
      "text/plain": [
       "(35.689722, 139.691667)"
      ]
     },
     "execution_count": 10,
     "metadata": {},
     "output_type": "execute_result"
    },
    {
     "data": {
      "text/plain": [
       "'JP'"
      ]
     },
     "execution_count": 10,
     "metadata": {},
     "output_type": "execute_result"
    },
    {
     "data": {
      "text/plain": [
       "'\\nA named tuple type has a few attributes in addition to those inherited from tuple.\\nExample 2-10 shows the most useful: the _fields class attribute, the class method\\n_make(iterable), and the _asdict() instance method.\\n'"
      ]
     },
     "execution_count": 10,
     "metadata": {},
     "output_type": "execute_result"
    },
    {
     "data": {
      "text/plain": [
       "('name', 'country', 'population', 'coordinates')"
      ]
     },
     "execution_count": 10,
     "metadata": {},
     "output_type": "execute_result"
    },
    {
     "data": {
      "text/plain": [
       "OrderedDict([('name', 'Delhi NCR'),\n             ('country', 'IN'),\n             ('population', 21.935),\n             ('coordinates', LatLong(lat=28.613889, long=77.208889))])"
      ]
     },
     "execution_count": 10,
     "metadata": {},
     "output_type": "execute_result"
    },
    {
     "name": "stdout",
     "output_type": "stream",
     "text": [
      "name: Delhi NCR\ncountry: IN\npopulation: 21.935\ncoordinates: LatLong(lat=28.613889, long=77.208889)\n"
     ]
    }
   ],
   "source": [
    "# named tuples\n",
    "\"\"\"\n",
    "Instances of a class that you build with namedtuple take exactly the same  amount  of  memory  as  \n",
    "tuples  because  the  field  names  are stored in the class. They use less memory than a regular \n",
    "object because they don’t store attributes in a per-instance     dict    .\n",
    "\"\"\"\n",
    "from collections import namedtuple\n",
    "City = namedtuple('City', 'name country population coordinates')\n",
    "tokyo = City('Tokyo', 'JP', 36.933, (35.689722, 139.691667))\n",
    "tokyo\n",
    "tokyo.population\n",
    "tokyo.coordinates\n",
    "tokyo[1]    # access the fields by name or position\n",
    "\n",
    "\"\"\"\n",
    "A named tuple type has a few attributes in addition to those inherited from tuple.\n",
    "Example 2-10 shows the most useful: the _fields class attribute, the class method\n",
    "_make(iterable), and the _asdict() instance method.\n",
    "\"\"\"\n",
    "City._fields\n",
    "LatLong = namedtuple('LatLong', 'lat long')\n",
    "delhi_data = ('Delhi NCR', 'IN', 21.935, LatLong(28.613889, 77.208889))\n",
    "delhi = City._make(delhi_data)\n",
    "delhi._asdict()\n",
    "for key, value in delhi._asdict().items():\n",
    "    print(key + ':', value)\n"
   ]
  },
  {
   "cell_type": "code",
   "execution_count": 4,
   "metadata": {},
   "outputs": [
    {
     "data": {
      "text/plain": [
       "\"\\nwhy slices and range exclude the last item, work well with the zero-based indexing\\n1. it's easy to see the length, range(3) and my_list[:3] both produce three items\\n2. it's easy to compute the length of a slice or range when start and stop are given: just stop - start\\n3. It’s easy to split a sequence in two parts at any index x, without overlapping: simply get my_list[:x] and my_list[x:].\\n\""
      ]
     },
     "execution_count": 4,
     "metadata": {},
     "output_type": "execute_result"
    },
    {
     "data": {
      "text/plain": [
       "[10, 20]"
      ]
     },
     "execution_count": 4,
     "metadata": {},
     "output_type": "execute_result"
    },
    {
     "data": {
      "text/plain": [
       "[30, 40, 50, 60]"
      ]
     },
     "execution_count": 4,
     "metadata": {},
     "output_type": "execute_result"
    },
    {
     "data": {
      "text/plain": [
       "'rbn'"
      ]
     },
     "execution_count": 4,
     "metadata": {},
     "output_type": "execute_result"
    },
    {
     "data": {
      "text/plain": [
       "'nibor'"
      ]
     },
     "execution_count": 4,
     "metadata": {},
     "output_type": "execute_result"
    }
   ],
   "source": [
    "# Slicing\n",
    "\"\"\"\n",
    "why slices and range exclude the last item, work well with the zero-based indexing\n",
    "1. it's easy to see the length, range(3) and my_list[:3] both produce three items\n",
    "2. it's easy to compute the length of a slice or range when start and stop are given: just stop - start\n",
    "3. It’s easy to split a sequence in two parts at any index x, without overlapping: simply get my_list[:x] and my_list[x:].\n",
    "\"\"\"\n",
    "l = [10, 20, 30, 40, 50, 60]\n",
    "l[:2]\n",
    "l[2:]\n",
    "\n",
    "# s[a:b:c] can be used to specify a stride or step c, causing the resulting slice to skip items\n",
    "s = 'robin'\n",
    "s[::2]\n",
    "s[::-1]\n",
    "# produce a slice object: slice(a, b, c), Python calls seq.__getitem__(slice(start, stop, step))\n",
    "SKU = slice(0, 6)\n",
    "DESCRIPTION = slice(6, 40)\n"
   ]
  },
  {
   "cell_type": "code",
   "execution_count": 12,
   "metadata": {},
   "outputs": [
    {
     "data": {
      "text/plain": [
       "'\\nThe ellipsis—written with three full stops (...) and not … (Unicode U+2026)—is recognized\\nas a token by the Python parser. It is an alias to the Ellipsis object, the single\\ninstance of the ellipsis class.2 As such, it can be passed as an argument to functions\\nand as part of a slice specification, as in f(a, ..., z) or a[i:...]. NumPy uses ...\\nas a shortcut when slicing arrays of many dimensions; for example, if x is a fourdimensional\\narray, x[i, ...] is a shortcut for x[i, :, :, :,]. See the Tentative\\nNumPy Tutorial to learn more about this.\\n'"
      ]
     },
     "execution_count": 12,
     "metadata": {},
     "output_type": "execute_result"
    },
    {
     "data": {
      "text/plain": [
       "array([4, 3])"
      ]
     },
     "execution_count": 12,
     "metadata": {},
     "output_type": "execute_result"
    }
   ],
   "source": [
    "# multidimensional slicing and ellipsis\n",
    "# a[m:n, k:l]\n",
    "\"\"\"\n",
    "The ellipsis—written with three full stops (...) and not … (Unicode U+2026)—is recognized\n",
    "as a token by the Python parser. It is an alias to the Ellipsis object, the single\n",
    "instance of the ellipsis class.2 As such, it can be passed as an argument to functions\n",
    "and as part of a slice specification, as in f(a, ..., z) or a[i:...]. NumPy uses ...\n",
    "as a shortcut when slicing arrays of many dimensions; for example, if x is a fourdimensional\n",
    "array, x[i, ...] is a shortcut for x[i, :, :, :,]. See the Tentative\n",
    "NumPy Tutorial to learn more about this.\n",
    "\"\"\"\n",
    "import numpy as np\n",
    "arr = np.array([[1, 2], [4, 3]])\n",
    "arr[1, ...]"
   ]
  },
  {
   "cell_type": "code",
   "execution_count": 13,
   "metadata": {},
   "outputs": [
    {
     "data": {
      "text/plain": [
       "'\\nslices can also be used to change mutable sequences in place, that is, without rebuilding from scratch\\n'"
      ]
     },
     "execution_count": 13,
     "metadata": {},
     "output_type": "execute_result"
    },
    {
     "data": {
      "text/plain": [
       "[0, 1, 2, 3, 4, 5, 6, 7, 8, 9]"
      ]
     },
     "execution_count": 13,
     "metadata": {},
     "output_type": "execute_result"
    },
    {
     "data": {
      "text/plain": [
       "[0, 1, 20, 30, 5, 6, 7, 8, 9]"
      ]
     },
     "execution_count": 13,
     "metadata": {},
     "output_type": "execute_result"
    },
    {
     "data": {
      "text/plain": [
       "[0, 1, 20, 30, 5, 8, 9]"
      ]
     },
     "execution_count": 13,
     "metadata": {},
     "output_type": "execute_result"
    }
   ],
   "source": [
    "# assigning to slices\n",
    "\"\"\"\n",
    "slices can also be used to change mutable sequences in place, that is, without rebuilding from scratch\n",
    "\"\"\"\n",
    "l = list(range(10))\n",
    "l\n",
    "l[2:5] = [20, 30]\n",
    "l\n",
    "del l[5:7]\n",
    "l\n",
    "# when the target of the assignment is a slice , the right side must be an iterable object\n"
   ]
  },
  {
   "cell_type": "code",
   "execution_count": 16,
   "metadata": {},
   "outputs": [
    {
     "data": {
      "text/plain": [
       "'\\n+ and * not modified but a new sequence of the same type is created as result of the concatenation\\n'"
      ]
     },
     "execution_count": 16,
     "metadata": {},
     "output_type": "execute_result"
    },
    {
     "data": {
      "text/plain": [
       "[1, 2, 3, 1, 2, 3, 1, 2, 3, 1, 2, 3, 1, 2, 3]"
      ]
     },
     "execution_count": 16,
     "metadata": {},
     "output_type": "execute_result"
    },
    {
     "data": {
      "text/plain": [
       "'\\n[[]] * 3 will result in a list with three references to the same inner list\\n'"
      ]
     },
     "execution_count": 16,
     "metadata": {},
     "output_type": "execute_result"
    },
    {
     "data": {
      "text/plain": [
       "[[], [], []]"
      ]
     },
     "execution_count": 16,
     "metadata": {},
     "output_type": "execute_result"
    },
    {
     "data": {
      "text/plain": [
       "[[1], [1], [1]]"
      ]
     },
     "execution_count": 16,
     "metadata": {},
     "output_type": "execute_result"
    }
   ],
   "source": [
    "# using + and * with sequences\n",
    "\"\"\"\n",
    "+ and * not modified but a new sequence of the same type is created as result of the concatenation\n",
    "\"\"\"\n",
    "l = [1, 2, 3]\n",
    "l * 5\n",
    "\"\"\"\n",
    "[[]] * 3 will result in a list with three references to the same inner list\n",
    "\"\"\"\n",
    "ll = [[]] * 3\n",
    "ll\n",
    "ll[0].append(1)\n",
    "ll"
   ]
  },
  {
   "cell_type": "code",
   "execution_count": 20,
   "metadata": {},
   "outputs": [
    {
     "data": {
      "text/plain": [
       "[['_', '_', '_'], ['_', '_', '_'], ['_', '_', '_']]"
      ]
     },
     "execution_count": 20,
     "metadata": {},
     "output_type": "execute_result"
    },
    {
     "data": {
      "text/plain": [
       "[['_', '_', '_'], ['_', '_', 'X'], ['_', '_', '_']]"
      ]
     },
     "execution_count": 20,
     "metadata": {},
     "output_type": "execute_result"
    },
    {
     "data": {
      "text/plain": [
       "[['_', '_', '_'], ['_', '_', '_'], ['_', '_', '_']]"
      ]
     },
     "execution_count": 20,
     "metadata": {},
     "output_type": "execute_result"
    },
    {
     "data": {
      "text/plain": [
       "[['_', '_', '0'], ['_', '_', '0'], ['_', '_', '0']]"
      ]
     },
     "execution_count": 20,
     "metadata": {},
     "output_type": "execute_result"
    }
   ],
   "source": [
    "# building lists of lists\n",
    "board = [['_'] * 3 for i in range(3)]\n",
    "board\n",
    "board[1][2] = 'X'\n",
    "board\n",
    "\n",
    "weird_board = [['_'] * 3] * 3\n",
    "weird_board\n",
    "weird_board[1][2] = '0'\n",
    "weird_board"
   ]
  },
  {
   "cell_type": "code",
   "execution_count": 22,
   "metadata": {},
   "outputs": [
    {
     "data": {
      "text/plain": [
       "'\\n+=, *=\\nthe special method that makes += work is __iadd__, if __iadd__ is not implemented, will falls back to calling __add__\\nIn general, for mutable sequences, it is a good bet that __iadd__ is implemented and\\nthat += happens in place. For immutable sequences, clearly there is no way for that to\\nhappen.\\n'"
      ]
     },
     "execution_count": 22,
     "metadata": {},
     "output_type": "execute_result"
    },
    {
     "data": {
      "text/plain": [
       "2930898699016"
      ]
     },
     "execution_count": 22,
     "metadata": {},
     "output_type": "execute_result"
    },
    {
     "data": {
      "text/plain": [
       "2930898699016"
      ]
     },
     "execution_count": 22,
     "metadata": {},
     "output_type": "execute_result"
    },
    {
     "data": {
      "text/plain": [
       "2930641757600"
      ]
     },
     "execution_count": 22,
     "metadata": {},
     "output_type": "execute_result"
    },
    {
     "data": {
      "text/plain": [
       "2930898537544"
      ]
     },
     "execution_count": 22,
     "metadata": {},
     "output_type": "execute_result"
    },
    {
     "data": {
      "text/plain": [
       "'\\nstr is an exception to this description. Because string building with += in loops is so common in the wild,\\nCPython is optimized for this use case. str instances are allocated in memory with room to spare, so that\\nconcatenation does not require copying the whole string every time.\\n'"
      ]
     },
     "execution_count": 22,
     "metadata": {},
     "output_type": "execute_result"
    }
   ],
   "source": [
    "# augmented assignment with sequences\n",
    "\"\"\"\n",
    "+=, *=\n",
    "the special method that makes += work is __iadd__, if __iadd__ is not implemented, will falls back to calling __add__\n",
    "In general, for mutable sequences, it is a good bet that __iadd__ is implemented and\n",
    "that += happens in place. For immutable sequences, clearly there is no way for that to\n",
    "happen.\n",
    "\"\"\"\n",
    "l = [1, 2, 3]\n",
    "id(l)\n",
    "l *= 2\n",
    "id(l)\n",
    "t = (1, 2, 3)\n",
    "id(t)\n",
    "t *= 2\n",
    "id(t)\n",
    "\"\"\"\n",
    "str is an exception to this description. Because string building with += in loops is so common in the wild,\n",
    "CPython is optimized for this use case. str instances are allocated in memory with room to spare, so that\n",
    "concatenation does not require copying the whole string every time.\n",
    "\"\"\""
   ]
  },
  {
   "cell_type": "code",
   "execution_count": 24,
   "metadata": {},
   "outputs": [
    {
     "ename": "TypeError",
     "evalue": "'tuple' object does not support item assignment",
     "traceback": [
      "\u001b[1;31m---------------------------------------------------------------------------\u001b[0m",
      "\u001b[1;31mTypeError\u001b[0m                                 Traceback (most recent call last)",
      "\u001b[1;32m<ipython-input-24-e50f6da769a0>\u001b[0m in \u001b[0;36m<module>\u001b[1;34m\u001b[0m\n\u001b[0;32m      1\u001b[0m \u001b[1;31m# A += Assignment Puzzler\u001b[0m\u001b[1;33m\u001b[0m\u001b[1;33m\u001b[0m\u001b[0m\n\u001b[0;32m      2\u001b[0m \u001b[0mt\u001b[0m \u001b[1;33m=\u001b[0m \u001b[1;33m(\u001b[0m\u001b[1;36m1\u001b[0m\u001b[1;33m,\u001b[0m \u001b[1;36m2\u001b[0m\u001b[1;33m,\u001b[0m \u001b[1;33m[\u001b[0m\u001b[1;36m30\u001b[0m\u001b[1;33m,\u001b[0m \u001b[1;36m40\u001b[0m\u001b[1;33m]\u001b[0m\u001b[1;33m)\u001b[0m\u001b[1;33m\u001b[0m\u001b[0m\n\u001b[1;32m----> 3\u001b[1;33m \u001b[0mt\u001b[0m\u001b[1;33m[\u001b[0m\u001b[1;36m2\u001b[0m\u001b[1;33m]\u001b[0m \u001b[1;33m+=\u001b[0m \u001b[1;33m[\u001b[0m\u001b[1;36m50\u001b[0m\u001b[1;33m,\u001b[0m \u001b[1;36m60\u001b[0m\u001b[1;33m]\u001b[0m\u001b[1;33m\u001b[0m\u001b[0m\n\u001b[0m\u001b[0;32m      4\u001b[0m \u001b[0mt\u001b[0m\u001b[1;33m\u001b[0m\u001b[0m\n",
      "\u001b[1;31mTypeError\u001b[0m: 'tuple' object does not support item assignment"
     ],
     "output_type": "error"
    }
   ],
   "source": [
    "# A += Assignment Puzzler\n",
    "t = (1, 2, [30, 40])\n",
    "t[2] += [50, 60]\n",
    "t   # t becomes (1, 2, [30, 40, 50, 60]) 同时也会报错"
   ]
  },
  {
   "cell_type": "code",
   "execution_count": 26,
   "metadata": {},
   "outputs": [
    {
     "data": {
      "text/plain": [
       "\"\\nit's a corner case, 通过bytecode很明显的看出来list先做+=，然后赋值给tuple（产生错误，因为tuple是immutable）\\nthree lessons:\\n1. putting mutable items in tuples is not a good idea\\n2. Augmented assignment is not an atomic operation—we just saw it throwing an exception after doing part of its job\\n3. Inspecting Python bytecode is not too difficult, and is often helpful to see what is going on under the hood\\n\""
      ]
     },
     "execution_count": 26,
     "metadata": {},
     "output_type": "execute_result"
    }
   ],
   "source": [
    "\"\"\"\n",
    "it's a corner case, 通过bytecode很明显的看出来list先做+=，然后赋值给tuple（产生错误，因为tuple是immutable）\n",
    "three lessons:\n",
    "1. putting mutable items in tuples is not a good idea\n",
    "2. Augmented assignment is not an atomic operation—we just saw it throwing an exception after doing part of its job\n",
    "3. Inspecting Python bytecode is not too difficult, and is often helpful to see what is going on under the hood\n",
    "\"\"\"\n"
   ]
  },
  {
   "cell_type": "code",
   "execution_count": null,
   "metadata": {},
   "outputs": [],
   "source": []
  }
 ],
 "metadata": {
  "kernelspec": {
   "display_name": "Python 2",
   "language": "python",
   "name": "python2"
  },
  "language_info": {
   "codemirror_mode": {
    "name": "ipython",
    "version": 2
   },
   "file_extension": ".py",
   "mimetype": "text/x-python",
   "name": "python",
   "nbconvert_exporter": "python",
   "pygments_lexer": "ipython2",
   "version": "2.7.6"
  }
 },
 "nbformat": 4,
 "nbformat_minor": 0
}
