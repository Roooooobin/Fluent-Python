{
 "cells": [
  {
   "cell_type": "code",
   "execution_count": 1,
   "metadata": {
    "collapsed": true
   },
   "outputs": [],
   "source": [
    "from IPython.core.interactiveshell import InteractiveShell\n",
    "InteractiveShell.ast_node_interactivity = \"all\""
   ]
  },
  {
   "cell_type": "code",
   "execution_count": 2,
   "metadata": {},
   "outputs": [
    {
     "data": {
      "text/plain": [
       "'\\nThe standard library offers a rich selection of sequence types implemented in C:\\nContainer sequences:\\n    list, tuple, and collections.deque can hold items of different types\\nFlat sequences\\n    str, bytes, bytearray, memoryview, and array.array hold items of one type\\n    \\nContainer sequences hold references to the objects they contain, which may be of any\\ntype, while flat sequences physically store the value of each item within its own memory\\nspace, and not as distinct objects. Thus, flat sequences are more compact, but they are\\nlimited to holding primitive values like characters, bytes, and numbers\\n\\nMutable sequences\\n    list, bytearray, array.array, collections.deque, and memoryview\\nImmutable sequences\\n    tuple, str, and bytes\\n'"
      ]
     },
     "execution_count": 2,
     "metadata": {},
     "output_type": "execute_result"
    }
   ],
   "source": [
    "\"\"\"\n",
    "The standard library offers a rich selection of sequence types implemented in C:\n",
    "Container sequences:\n",
    "    list, tuple, and collections.deque can hold items of different types\n",
    "Flat sequences\n",
    "    str, bytes, bytearray, memoryview, and array.array hold items of one type\n",
    "    \n",
    "Container sequences hold references to the objects they contain, which may be of any\n",
    "type, while flat sequences physically store the value of each item within its own memory\n",
    "space, and not as distinct objects. Thus, flat sequences are more compact, but they are\n",
    "limited to holding primitive values like characters, bytes, and numbers\n",
    "\n",
    "Mutable sequences\n",
    "    list, bytearray, array.array, collections.deque, and memoryview\n",
    "Immutable sequences\n",
    "    tuple, str, and bytes\n",
    "\"\"\"\n"
   ]
  },
  {
   "cell_type": "code",
   "execution_count": 5,
   "metadata": {},
   "outputs": [
    {
     "data": {
      "text/plain": [
       "'\\nFor brevity, many Python programmers refer to list comprehensions as listcomps, and generator expressions as genexps.\\nI will use these words as well.\\nlistcomps: more readable and often faster \\n'"
      ]
     },
     "execution_count": 5,
     "metadata": {},
     "output_type": "execute_result"
    },
    {
     "data": {
      "text/plain": [
       "[36, 162, 163, 165, 8364, 164]"
      ]
     },
     "execution_count": 5,
     "metadata": {},
     "output_type": "execute_result"
    },
    {
     "data": {
      "text/plain": [
       "[36, 162, 163, 165, 8364, 164]"
      ]
     },
     "execution_count": 5,
     "metadata": {},
     "output_type": "execute_result"
    }
   ],
   "source": [
    "# list comprehensions and generator expressions\n",
    "\"\"\"\n",
    "For brevity, many Python programmers refer to list comprehensions as listcomps, and generator expressions as genexps.\n",
    "I will use these words as well.\n",
    "listcomps: more readable and often faster\n",
    "a listcomp is meant to do one thing only: to build a new list\n",
    "keep it short\n",
    "\"\"\"\n",
    "symbols = '$¢£¥€¤'\n",
    "codes = []\n",
    "for symbol in symbols:\n",
    "    codes.append(ord(symbol))\n",
    "codes\n",
    "\n",
    "codes1 = [ord(symbol) for symbol in symbols]\n",
    "codes1"
   ]
  },
  {
   "cell_type": "code",
   "execution_count": 6,
   "metadata": {},
   "outputs": [
    {
     "data": {
      "text/plain": [
       "[162, 163, 165, 8364, 164]"
      ]
     },
     "execution_count": 6,
     "metadata": {},
     "output_type": "execute_result"
    },
    {
     "data": {
      "text/plain": [
       "[162, 163, 165, 8364, 164]"
      ]
     },
     "execution_count": 6,
     "metadata": {},
     "output_type": "execute_result"
    }
   ],
   "source": [
    "# listcomps versus map and filter\n",
    "# listcomps do everything the map and filter functions do\n",
    "symbols = '$¢£¥€¤'\n",
    "beyond_ascii = [ord(s) for s in symbols if ord(s) > 127]\n",
    "beyond_ascii\n",
    "beyond_ascii = list(filter(lambda c: c > 127, map(ord, symbols)))\n",
    "beyond_ascii"
   ]
  },
  {
   "cell_type": "code",
   "execution_count": 7,
   "metadata": {},
   "outputs": [
    {
     "data": {
      "text/plain": [
       "[('black', 'S'),\n ('black', 'M'),\n ('black', 'L'),\n ('white', 'S'),\n ('white', 'M'),\n ('white', 'L')]"
      ]
     },
     "execution_count": 7,
     "metadata": {},
     "output_type": "execute_result"
    },
    {
     "name": "stdout",
     "output_type": "stream",
     "text": [
      "('black', 'S')\n('black', 'M')\n('black', 'L')\n('white', 'S')\n('white', 'M')\n('white', 'L')\n"
     ]
    }
   ],
   "source": [
    "# Cartesian Products\n",
    "colors = ['black', 'white']\n",
    "sizes = ['S', 'M', 'L']\n",
    "tshirts = [(color, size) for color in colors for size in sizes]\n",
    "tshirts\n",
    "# equals:\n",
    "for color in colors:\n",
    "    for size in sizes:\n",
    "        print((color, size))"
   ]
  },
  {
   "cell_type": "code",
   "execution_count": 9,
   "metadata": {},
   "outputs": [
    {
     "data": {
      "text/plain": [
       "'\\na genexp saves memory because it yields items one by one using the iterator\\nprotocol instead of building a whole list just to feed another constructor\\n\\nenclosed in parentheses rather than brackets\\n'"
      ]
     },
     "execution_count": 9,
     "metadata": {},
     "output_type": "execute_result"
    },
    {
     "data": {
      "text/plain": [
       "(36, 162, 163, 165, 8364, 164)"
      ]
     },
     "execution_count": 9,
     "metadata": {},
     "output_type": "execute_result"
    },
    {
     "data": {
      "text/plain": [
       "array('I', [36, 162, 163, 165, 8364, 164])"
      ]
     },
     "execution_count": 9,
     "metadata": {},
     "output_type": "execute_result"
    }
   ],
   "source": [
    "# generator expression\n",
    "\"\"\"\n",
    "a genexp saves memory because it yields items one by one using the iterator\n",
    "protocol instead of building a whole list just to feed another constructor\n",
    "\n",
    "enclosed in parentheses rather than brackets\n",
    "\"\"\"\n",
    "symbols = '$¢£¥€¤'\n",
    "tuple(ord(symbol) for symbol in symbols)\n",
    "\n",
    "import array\n",
    "array.array('I', (ord(symbol) for symbol in symbols))"
   ]
  },
  {
   "cell_type": "code",
   "execution_count": 2,
   "metadata": {},
   "outputs": [
    {
     "data": {
      "text/plain": [
       "'\\ntuples do double duty: they can be used as immutable lists and also as records with no field name\\nTuples hold records: each item in the tuple holds the data for one field and the position of the item gives its meaning.\\n'"
      ]
     },
     "execution_count": 2,
     "metadata": {},
     "output_type": "execute_result"
    }
   ],
   "source": [
    "# tuples are not just immutable lists\n",
    "\"\"\"\n",
    "tuples do double duty: they can be used as immutable lists and also as records with no field name\n",
    "Tuples hold records: each item in the tuple holds the data for one field and the position of the item gives its meaning.\n",
    "\"\"\"\n",
    "# examples of tuple used as records\n",
    "lax_coordinates = (33.9425, -118.408056)\n",
    "city, year, pop, chg, area = ('Tokyo', 2003, 32450, 0.66, 8014)\n",
    "traveler_ids = [('USA', '31195855'), ('BRA', 'CE342567'), ('ESP', 'XDA205856')]\n"
   ]
  },
  {
   "cell_type": "code",
   "execution_count": 7,
   "metadata": {},
   "outputs": [
    {
     "data": {
      "text/plain": [
       "33.9425"
      ]
     },
     "execution_count": 7,
     "metadata": {},
     "output_type": "execute_result"
    },
    {
     "data": {
      "text/plain": [
       "-118.408056"
      ]
     },
     "execution_count": 7,
     "metadata": {},
     "output_type": "execute_result"
    },
    {
     "data": {
      "text/plain": [
       "3"
      ]
     },
     "execution_count": 7,
     "metadata": {},
     "output_type": "execute_result"
    },
    {
     "data": {
      "text/plain": [
       "2"
      ]
     },
     "execution_count": 7,
     "metadata": {},
     "output_type": "execute_result"
    },
    {
     "data": {
      "text/plain": [
       "(2, 4)"
      ]
     },
     "execution_count": 7,
     "metadata": {},
     "output_type": "execute_result"
    },
    {
     "data": {
      "text/plain": [
       "(2, 4)"
      ]
     },
     "execution_count": 7,
     "metadata": {},
     "output_type": "execute_result"
    },
    {
     "data": {
      "text/plain": [
       "(2, 4)"
      ]
     },
     "execution_count": 7,
     "metadata": {},
     "output_type": "execute_result"
    },
    {
     "data": {
      "text/plain": [
       "(0, 1, [2, 3, 4])"
      ]
     },
     "execution_count": 7,
     "metadata": {},
     "output_type": "execute_result"
    },
    {
     "data": {
      "text/plain": [
       "(0, [1, 2], 3, 4)"
      ]
     },
     "execution_count": 7,
     "metadata": {},
     "output_type": "execute_result"
    }
   ],
   "source": [
    "# tuple unpacking\n",
    "# tuple unpacking works with any iterable object The only requirement\n",
    "# is that the iterable yields exactly one item per variable in the receiving tuple\n",
    "# parallel assignment\n",
    "lax_coordinates = (33.9425, -118.408056)\n",
    "latitude, longitude = lax_coordinates\n",
    "latitude\n",
    "longitude\n",
    "\n",
    "# swap the values of variables without using a temporary variable\n",
    "a = 2\n",
    "b = 3\n",
    "a, b = b, a\n",
    "a\n",
    "b\n",
    "\n",
    "# Another example of tuple unpacking is prefixing an argument with a star when calling a function\n",
    "divmod(20, 8)\n",
    "t = (20, 8)\n",
    "divmod(*t)\n",
    "quotient, remainder = divmod(*t)\n",
    "quotient, remainder\n",
    "\n",
    "# placeholder _\n",
    "\n",
    "# using * to grab excess items\n",
    "a, b, *rest = range(5)\n",
    "a, b, rest\n",
    "a, *body, c, d = range(5)\n",
    "a, body, c, d\n",
    "\n",
    "# nested tuple: (a, (b, c), d)"
   ]
  },
  {
   "cell_type": "code",
   "execution_count": 10,
   "metadata": {},
   "outputs": [
    {
     "data": {
      "text/plain": [
       "'\\nInstances of a class that you build with namedtuple take exactly the same  amount  of  memory  as  \\ntuples  because  the  field  names  are stored in the class. They use less memory than a regular \\nobject because they don’t store attributes in a per-instance     dict    .\\n'"
      ]
     },
     "execution_count": 10,
     "metadata": {},
     "output_type": "execute_result"
    },
    {
     "data": {
      "text/plain": [
       "City(name='Tokyo', country='JP', population=36.933, coordinates=(35.689722, 139.691667))"
      ]
     },
     "execution_count": 10,
     "metadata": {},
     "output_type": "execute_result"
    },
    {
     "data": {
      "text/plain": [
       "36.933"
      ]
     },
     "execution_count": 10,
     "metadata": {},
     "output_type": "execute_result"
    },
    {
     "data": {
      "text/plain": [
       "(35.689722, 139.691667)"
      ]
     },
     "execution_count": 10,
     "metadata": {},
     "output_type": "execute_result"
    },
    {
     "data": {
      "text/plain": [
       "'JP'"
      ]
     },
     "execution_count": 10,
     "metadata": {},
     "output_type": "execute_result"
    },
    {
     "data": {
      "text/plain": [
       "'\\nA named tuple type has a few attributes in addition to those inherited from tuple.\\nExample 2-10 shows the most useful: the _fields class attribute, the class method\\n_make(iterable), and the _asdict() instance method.\\n'"
      ]
     },
     "execution_count": 10,
     "metadata": {},
     "output_type": "execute_result"
    },
    {
     "data": {
      "text/plain": [
       "('name', 'country', 'population', 'coordinates')"
      ]
     },
     "execution_count": 10,
     "metadata": {},
     "output_type": "execute_result"
    },
    {
     "data": {
      "text/plain": [
       "OrderedDict([('name', 'Delhi NCR'),\n             ('country', 'IN'),\n             ('population', 21.935),\n             ('coordinates', LatLong(lat=28.613889, long=77.208889))])"
      ]
     },
     "execution_count": 10,
     "metadata": {},
     "output_type": "execute_result"
    },
    {
     "name": "stdout",
     "output_type": "stream",
     "text": [
      "name: Delhi NCR\ncountry: IN\npopulation: 21.935\ncoordinates: LatLong(lat=28.613889, long=77.208889)\n"
     ]
    }
   ],
   "source": [
    "# named tuples\n",
    "\"\"\"\n",
    "Instances of a class that you build with namedtuple take exactly the same  amount  of  memory  as  \n",
    "tuples  because  the  field  names  are stored in the class. They use less memory than a regular \n",
    "object because they don’t store attributes in a per-instance     dict    .\n",
    "\"\"\"\n",
    "from collections import namedtuple\n",
    "City = namedtuple('City', 'name country population coordinates')\n",
    "tokyo = City('Tokyo', 'JP', 36.933, (35.689722, 139.691667))\n",
    "tokyo\n",
    "tokyo.population\n",
    "tokyo.coordinates\n",
    "tokyo[1]    # access the fields by name or position\n",
    "\n",
    "\"\"\"\n",
    "A named tuple type has a few attributes in addition to those inherited from tuple.\n",
    "Example 2-10 shows the most useful: the _fields class attribute, the class method\n",
    "_make(iterable), and the _asdict() instance method.\n",
    "\"\"\"\n",
    "City._fields\n",
    "LatLong = namedtuple('LatLong', 'lat long')\n",
    "delhi_data = ('Delhi NCR', 'IN', 21.935, LatLong(28.613889, 77.208889))\n",
    "delhi = City._make(delhi_data)\n",
    "delhi._asdict()\n",
    "for key, value in delhi._asdict().items():\n",
    "    print(key + ':', value)\n"
   ]
  },
  {
   "cell_type": "code",
   "execution_count": null,
   "metadata": {},
   "outputs": [],
   "source": []
  }
 ],
 "metadata": {
  "kernelspec": {
   "display_name": "Python 2",
   "language": "python",
   "name": "python2"
  },
  "language_info": {
   "codemirror_mode": {
    "name": "ipython",
    "version": 2
   },
   "file_extension": ".py",
   "mimetype": "text/x-python",
   "name": "python",
   "nbconvert_exporter": "python",
   "pygments_lexer": "ipython2",
   "version": "2.7.6"
  }
 },
 "nbformat": 4,
 "nbformat_minor": 0
}
