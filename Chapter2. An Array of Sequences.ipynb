{
 "cells": [
  {
   "cell_type": "code",
   "execution_count": 1,
   "metadata": {
    "collapsed": true
   },
   "outputs": [],
   "source": [
    "from IPython.core.interactiveshell import InteractiveShell\n",
    "InteractiveShell.ast_node_interactivity = \"all\""
   ]
  },
  {
   "cell_type": "code",
   "execution_count": 2,
   "metadata": {},
   "outputs": [
    {
     "data": {
      "text/plain": [
       "'\\nThe standard library offers a rich selection of sequence types implemented in C:\\nContainer sequences:\\n    list, tuple, and collections.deque can hold items of different types\\nFlat sequences\\n    str, bytes, bytearray, memoryview, and array.array hold items of one type\\n    \\nContainer sequences hold references to the objects they contain, which may be of any\\ntype, while flat sequences physically store the value of each item within its own memory\\nspace, and not as distinct objects. Thus, flat sequences are more compact, but they are\\nlimited to holding primitive values like characters, bytes, and numbers\\n\\nMutable sequences\\n    list, bytearray, array.array, collections.deque, and memoryview\\nImmutable sequences\\n    tuple, str, and bytes\\n'"
      ]
     },
     "execution_count": 2,
     "metadata": {},
     "output_type": "execute_result"
    }
   ],
   "source": [
    "\"\"\"\n",
    "The standard library offers a rich selection of sequence types implemented in C:\n",
    "Container sequences:\n",
    "    list, tuple, and collections.deque can hold items of different types\n",
    "Flat sequences\n",
    "    str, bytes, bytearray, memoryview, and array.array hold items of one type\n",
    "    \n",
    "Container sequences hold references to the objects they contain, which may be of any\n",
    "type, while flat sequences physically store the value of each item within its own memory\n",
    "space, and not as distinct objects. Thus, flat sequences are more compact, but they are\n",
    "limited to holding primitive values like characters, bytes, and numbers\n",
    "\n",
    "Mutable sequences\n",
    "    list, bytearray, array.array, collections.deque, and memoryview\n",
    "Immutable sequences\n",
    "    tuple, str, and bytes\n",
    "\"\"\"\n"
   ]
  },
  {
   "cell_type": "code",
   "execution_count": 5,
   "metadata": {},
   "outputs": [
    {
     "data": {
      "text/plain": [
       "'\\nFor brevity, many Python programmers refer to list comprehensions as listcomps, and generator expressions as genexps.\\nI will use these words as well.\\nlistcomps: more readable and often faster \\n'"
      ]
     },
     "execution_count": 5,
     "metadata": {},
     "output_type": "execute_result"
    },
    {
     "data": {
      "text/plain": [
       "[36, 162, 163, 165, 8364, 164]"
      ]
     },
     "execution_count": 5,
     "metadata": {},
     "output_type": "execute_result"
    },
    {
     "data": {
      "text/plain": [
       "[36, 162, 163, 165, 8364, 164]"
      ]
     },
     "execution_count": 5,
     "metadata": {},
     "output_type": "execute_result"
    }
   ],
   "source": [
    "# list comprehensions and generator expressions\n",
    "\"\"\"\n",
    "For brevity, many Python programmers refer to list comprehensions as listcomps, and generator expressions as genexps.\n",
    "I will use these words as well.\n",
    "listcomps: more readable and often faster\n",
    "a listcomp is meant to do one thing only: to build a new list\n",
    "keep it short\n",
    "\"\"\"\n",
    "symbols = '$¢£¥€¤'\n",
    "codes = []\n",
    "for symbol in symbols:\n",
    "    codes.append(ord(symbol))\n",
    "codes\n",
    "\n",
    "codes1 = [ord(symbol) for symbol in symbols]\n",
    "codes1"
   ]
  },
  {
   "cell_type": "code",
   "execution_count": 6,
   "metadata": {},
   "outputs": [
    {
     "data": {
      "text/plain": [
       "[162, 163, 165, 8364, 164]"
      ]
     },
     "execution_count": 6,
     "metadata": {},
     "output_type": "execute_result"
    },
    {
     "data": {
      "text/plain": [
       "[162, 163, 165, 8364, 164]"
      ]
     },
     "execution_count": 6,
     "metadata": {},
     "output_type": "execute_result"
    }
   ],
   "source": [
    "# listcomps versus map and filter\n",
    "# listcomps do everything the map and filter functions do\n",
    "symbols = '$¢£¥€¤'\n",
    "beyond_ascii = [ord(s) for s in symbols if ord(s) > 127]\n",
    "beyond_ascii\n",
    "beyond_ascii = list(filter(lambda c: c > 127, map(ord, symbols)))\n",
    "beyond_ascii"
   ]
  },
  {
   "cell_type": "code",
   "execution_count": 7,
   "metadata": {},
   "outputs": [
    {
     "data": {
      "text/plain": [
       "[('black', 'S'),\n ('black', 'M'),\n ('black', 'L'),\n ('white', 'S'),\n ('white', 'M'),\n ('white', 'L')]"
      ]
     },
     "execution_count": 7,
     "metadata": {},
     "output_type": "execute_result"
    },
    {
     "name": "stdout",
     "output_type": "stream",
     "text": [
      "('black', 'S')\n('black', 'M')\n('black', 'L')\n('white', 'S')\n('white', 'M')\n('white', 'L')\n"
     ]
    }
   ],
   "source": [
    "# Cartesian Products\n",
    "colors = ['black', 'white']\n",
    "sizes = ['S', 'M', 'L']\n",
    "tshirts = [(color, size) for color in colors for size in sizes]\n",
    "tshirts\n",
    "# equals:\n",
    "for color in colors:\n",
    "    for size in sizes:\n",
    "        print((color, size))"
   ]
  },
  {
   "cell_type": "code",
   "execution_count": 9,
   "metadata": {},
   "outputs": [
    {
     "data": {
      "text/plain": [
       "'\\na genexp saves memory because it yields items one by one using the iterator\\nprotocol instead of building a whole list just to feed another constructor\\n\\nenclosed in parentheses rather than brackets\\n'"
      ]
     },
     "execution_count": 9,
     "metadata": {},
     "output_type": "execute_result"
    },
    {
     "data": {
      "text/plain": [
       "(36, 162, 163, 165, 8364, 164)"
      ]
     },
     "execution_count": 9,
     "metadata": {},
     "output_type": "execute_result"
    },
    {
     "data": {
      "text/plain": [
       "array('I', [36, 162, 163, 165, 8364, 164])"
      ]
     },
     "execution_count": 9,
     "metadata": {},
     "output_type": "execute_result"
    }
   ],
   "source": [
    "# generator expression\n",
    "\"\"\"\n",
    "a genexp saves memory because it yields items one by one using the iterator\n",
    "protocol instead of building a whole list just to feed another constructor\n",
    "\n",
    "enclosed in parentheses rather than brackets\n",
    "\"\"\"\n",
    "symbols = '$¢£¥€¤'\n",
    "tuple(ord(symbol) for symbol in symbols)\n",
    "\n",
    "import array\n",
    "array.array('I', (ord(symbol) for symbol in symbols))"
   ]
  },
  {
   "cell_type": "code",
   "execution_count": null,
   "metadata": {},
   "outputs": [],
   "source": []
  }
 ],
 "metadata": {
  "kernelspec": {
   "display_name": "Python 2",
   "language": "python",
   "name": "python2"
  },
  "language_info": {
   "codemirror_mode": {
    "name": "ipython",
    "version": 2
   },
   "file_extension": ".py",
   "mimetype": "text/x-python",
   "name": "python",
   "nbconvert_exporter": "python",
   "pygments_lexer": "ipython2",
   "version": "2.7.6"
  }
 },
 "nbformat": 4,
 "nbformat_minor": 0
}
